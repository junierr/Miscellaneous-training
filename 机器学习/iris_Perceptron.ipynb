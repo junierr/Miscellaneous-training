{
 "cells": [
  {
   "cell_type": "code",
   "execution_count": 45,
   "metadata": {
    "collapsed": true
   },
   "outputs": [],
   "source": [
    "import numpy as np\n",
    "from sklearn import datasets\n",
    "import matplotlib.pyplot as plt"
   ]
  },
  {
   "cell_type": "code",
   "execution_count": 46,
   "metadata": {
    "collapsed": true
   },
   "outputs": [],
   "source": [
    "class Perception(object):\n",
    "    \"\"\"\n",
    "    eta:学习率\n",
    "    n_iter:权重向量的训练次数\n",
    "    w_:神经分叉权重向量\n",
    "    error_:用于记录神经元判断出错次数\n",
    "    \"\"\"\n",
    "    def __init__(self, eta = 0.01, n_iter = 10):\n",
    "        self.eta = eta\n",
    "        self.n_iter = n_iter\n",
    "        pass\n",
    "\n",
    "    def fit(self, x, y):\n",
    "        \"\"\"\n",
    "        输入训练数据，培训神经元，x输入样本向量，y对应样本分类\n",
    "\n",
    "        x:shape[n_samples, n_features]\n",
    "        x:[[1, 2, 3], [4, 5, 6]]\n",
    "        n_samples:2\n",
    "        n_features:3\n",
    "\n",
    "        y:[1, -1]\n",
    "        \"\"\"\n",
    "\n",
    "        \"\"\"\n",
    "        初始化权重向量为0\n",
    "        加一是因为前面算法提到的w0，也就是步调函数的阈值\n",
    "        \"\"\"\n",
    "        self.w_ = np.zeros(1 + x.shape[1])\n",
    "        self.errors_ = []\n",
    "\n",
    "        for _ in range(self.n_iter):\n",
    "            errors = 0\n",
    "            \"\"\"\n",
    "            x:[[1, 2, 3], [4, 5, 6]]\n",
    "            y:[1, -1]\n",
    "            zip(x,y) = [[1, 2, 3, 1], [4, 5, 6, -1]]\n",
    "            \"\"\"\n",
    "            for xi, target in zip(x, y):\n",
    "                \"\"\"\n",
    "                update = η * (y - y')\n",
    "                \"\"\"\n",
    "                update = self.eta * (target - self.predict(xi))\n",
    "                \"\"\"\n",
    "                xi是一个向量\n",
    "                update * xi 等价：\n",
    "                [▽w[1]=x[1]*update,▽w[2]=x[2]*update,▽w[3]=x[3]*update]\n",
    "                \"\"\"\n",
    "                self.w_[1:] += update * xi\n",
    "                self.w_[0] += update\n",
    "\n",
    "                errors += int(update != 0.0)\n",
    "                self.errors_.append(errors)\n",
    "                pass\n",
    "\n",
    "            pass\n",
    "\n",
    "        pass\n",
    "    def net_input(self, x):\n",
    "        return np.dot(x, self.w_[1:]) + self.w_[0]\n",
    "        pass\n",
    "    def predict(self, x):\n",
    "        return np.where(self.net_input(x) >= 0.0, 1, -1)\n",
    "        pass\n"
   ]
  },
  {
   "cell_type": "code",
   "execution_count": 47,
   "metadata": {
    "collapsed": true
   },
   "outputs": [],
   "source": [
    "def show(x):\n",
    "    plt.scatter(x[:50,0],x[:50,1],color='red',marker='o',label='setosa')\n",
    "    plt.scatter(x[50:100,0],x[50:100,1],color='blue',marker='x',label='versicolor')  \n",
    "    plt.xlabel('petal length')  \n",
    "    plt.ylabel('petal width') \n",
    "    plt.legend(loc=2)  \n",
    "    plt.show()  "
   ]
  },
  {
   "cell_type": "code",
   "execution_count": 48,
   "metadata": {},
   "outputs": [
    {
     "data": {
      "image/png": "[encoded data removed]",
      "text/plain": [
       "<matplotlib.figure.Figure at 0x1ed5ff74c88>"
      ]
     },
     "metadata": {},
     "output_type": "display_data"
    }
   ],
   "source": [
    "iris= datasets.load_iris()\n",
    "x = iris.data[:100, 2:4] \n",
    "y=iris.target[:100]#取前100条数据\n",
    "y = np.where(y == 0,-1,1) #标签改为-1/1\n",
    "show(x)"
   ]
  },
  {
   "cell_type": "code",
   "execution_count": 49,
   "metadata": {},
   "outputs": [
    {
     "data": {
      "image/png": "[encoded data removed]",
      "text/plain": [
       "<matplotlib.figure.Figure at 0x1ed5f6ac5f8>"
      ]
     },
     "metadata": {},
     "output_type": "display_data"
    }
   ],
   "source": [
    "ppn = Perception(eta=0.1, n_iter=10)\n",
    "ppn.fit(x, y)\n",
    "plt.plot(range(1,len(ppn.errors_) + 1),ppn.errors_, marker='o')\n",
    "plt.xlabel('Epoch')\n",
    "plt.ylabel('errornum')\n",
    "plt.show()"
   ]
  },
  {
   "cell_type": "code",
   "execution_count": 50,
   "metadata": {
    "collapsed": true
   },
   "outputs": [],
   "source": [
    "from matplotlib.colors import ListedColormap\n",
    "def plot_decision_regions(x, y, classifier, resolution = 0.02):\n",
    "    marker = ('s', 'x', 'o', 'v')\n",
    "    colors = ('red', 'blue', 'lightgreen', 'gray', 'cyan')\n",
    "    cmap = ListedColormap(colors[:len(np.unique(y))])\n",
    "\n",
    "    x1_min, x1_max = x[:,0].min() - 1, x[:,0].max()\n",
    "    x2_min, x2_max = x[:,1].min() - 1, x[:,1].max()\n",
    "\n",
    "    #print(x1_min, x1_max)\n",
    "    #print(x2_min, x2_max)\n",
    "\n",
    "    xx1, xx2 = np.meshgrid(np.arange(x1_min, x1_max, resolution),\n",
    "                          np.arange(x2_min, x2_max, resolution))\n",
    "\n",
    "    z = classifier.predict(np.array([xx1.ravel(), xx2.ravel()]).T)\n",
    "\n",
    "    #print(xx1.ravel())\n",
    "    #print(xx2.ravel())\n",
    "    #print(z)\n",
    "\n",
    "    z = z.reshape(xx1.shape)\n",
    "    plt.contourf(xx1, xx2, z, alpha=0.4, cmap=cmap)\n",
    "    plt.xlim(xx1.min(), xx1.max())\n",
    "    plt.ylim(xx2.min(), xx2.max())\n",
    "\n",
    "    for idx, cl in enumerate(np.unique(y)):\n",
    "        plt.scatter(x=x[y==cl, 0],y=x[y==cl, 1], alpha=0.8, c=cmap(idx), \n",
    "                    marker=marker[idx], label=cl)"
   ]
  },
  {
   "cell_type": "code",
   "execution_count": 51,
   "metadata": {},
   "outputs": [
    {
     "data": {
      "image/png": "[encoded data removed]",
      "text/plain": [
       "<matplotlib.figure.Figure at 0x1ed602b4320>"
      ]
     },
     "metadata": {},
     "output_type": "display_data"
    }
   ],
   "source": [
    "plot_decision_regions(x, y, ppn, resolution=0.02)\n",
    "plt.xlabel('petal length')\n",
    "plt.ylabel('petal width')\n",
    "plt.legend(loc =2)\n",
    "plt.show()"
   ]
  },
  {
   "cell_type": "code",
   "execution_count": null,
   "metadata": {
    "collapsed": true
   },
   "outputs": [],
   "source": []
  },
  {
   "cell_type": "code",
   "execution_count": null,
   "metadata": {
    "collapsed": true
   },
   "outputs": [],
   "source": []
  }
 ],
 "metadata": {
  "kernelspec": {
   "display_name": "Python 3",
   "language": "python",
   "name": "python3"
  },
  "language_info": {
   "codemirror_mode": {
    "name": "ipython",
    "version": 3
   },
   "file_extension": ".py",
   "mimetype": "text/x-python",
   "name": "python",
   "nbconvert_exporter": "python",
   "pygments_lexer": "ipython3",
   "version": "3.6.2"
  }
 },
 "nbformat": 4,
 "nbformat_minor": 2
}

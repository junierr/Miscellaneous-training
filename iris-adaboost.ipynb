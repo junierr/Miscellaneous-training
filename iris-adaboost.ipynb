{
 "cells": [
  {
   "cell_type": "code",
   "execution_count": 3,
   "metadata": {},
   "outputs": [
    {
     "name": "stdout",
     "output_type": "stream",
     "text": [
      "alpha is :0.09360577104407318\n",
      "alpha is :0.03509886861946332\n",
      "alpha is :0.09009038757777348\n",
      "alpha is :0.2430797244206212\n",
      "alpha is :0.17190165288528267\n",
      "alpha is :0.5145727335107108\n",
      "alpha is :nan\n",
      "{'WClassifier0': [4, 4.7, 0.09360577104407318], 'WClassifier1': [4, 4.9, 0.03509886861946332], 'WClassifier2': [4, 4.9, 0.09009038757777348], 'WClassifier3': [4, 4.9, 0.2430797244206212], 'WClassifier4': [4, 5.1, 0.17190165288528267], 'WClassifier5': [4, 5.1, 0.5145727335107108], 'WClassifier6': [4, 5.1, nan]}\n"
     ]
    },
    {
     "name": "stderr",
     "output_type": "stream",
     "text": [
      "C:\\ProgramData\\Anaconda3\\lib\\site-packages\\ipykernel_launcher.py:13: RuntimeWarning: invalid value encountered in log\n",
      "  del sys.path[0]\n"
     ]
    }
   ],
   "source": [
    "import numpy as np\n",
    "\n",
    "#Adaboost分类\n",
    "from sklearn.model_selection import cross_val_score\n",
    "from sklearn.datasets import load_iris\n",
    "from sklearn.ensemble import AdaBoostClassifier\n",
    "\n",
    "\n",
    "def calculateAlpha(error):\n",
    "    if error == 0:\n",
    "        return 0\n",
    "    else:\n",
    "        return (1/2) * (np.log((1-error)/error))\n",
    "\n",
    "def calculateWeight(alpha, originalWeight, y, g):\n",
    "    weight = originalWeight * (np.e ** (-alpha * y * g))\n",
    "    return weight\n",
    "\n",
    "def sign(value):\n",
    "    if value > 0:\n",
    "        return 1\n",
    "    else:\n",
    "        return -1\n",
    "\n",
    "def learn(x, alpha, featureValue):\n",
    "    if x >= featureValue:\n",
    "        return sign(alpha * 1)\n",
    "    else:\n",
    "        return sign(alpha * -1)\n",
    "\n",
    "#参数是整个特征集，目标划分，对应的权重\n",
    "def findBestCut(dataset, target, weights):\n",
    "    shape = np.shape(dataset)\n",
    "    featureNo = shape[1]\n",
    "    newWeights = []\n",
    "    for featureSeq in range(featureNo):\n",
    "        featureRow = dataset[:, featureSeq]\n",
    "        for featureIndex in range(len(featureRow)):\n",
    "            featureValue = featureRow[featureIndex]\n",
    "            resultRow = featureRow.copy()\n",
    "            for index in range(len(resultRow)):\n",
    "                if resultRow[index] >= featureValue:\n",
    "                    resultRow[index] = 1\n",
    "                else:\n",
    "                    resultRow[index] = -1\n",
    "\n",
    "            #得到的result和target做对比，不一样则划分错误，乘以相应的权值作为error\n",
    "            error = np.dot(np.multiply(resultRow, target), weights.T)\n",
    "           #如果error小于0.5，说明这是个合格的弱分类器G，记录下相应的弱分类器权重W和划分值以及划分值所在的特征组并返回\n",
    "            if error < 0.5:\n",
    "                alpha = calculateAlpha(error)\n",
    "                print('alpha is :' + str(alpha))\n",
    "                for weightNo in range(len(weights)):\n",
    "                    g = learn(featureRow[weightNo], alpha, featureValue)\n",
    "                    newWeights.append(calculateWeight(alpha, weights[weightNo], target[weightNo], g))\n",
    "\n",
    "                newWeights = newWeights / sum(newWeights)\n",
    "                \n",
    "                return featureValue, alpha, newWeights\n",
    "    return None, None, newWeights\n",
    "\n",
    "    # newWeights = newWeights/sum(newWeights)\n",
    "    #\n",
    "    # return featureValue, alpha, newWeights\n",
    "\n",
    "\n",
    "#循环生成弱分类器\n",
    "def adaBoost(dataset,target,weekClassifierNo=4):\n",
    "    shape = np.shape(dataset)\n",
    "    recordNo = shape[0]\n",
    "    weights = np.ones(recordNo)/recordNo\n",
    "    featureNo = shape[1]\n",
    "    weekClassifiers = {}\n",
    "    for classifierSeq in range(weekClassifierNo):\n",
    "        featureValue, alpha, newWeights = findBestCut(dataset, target, weights)\n",
    "        if len(newWeights) == 0:\n",
    "            break\n",
    "        weekClassifiers[\"WClassifier\" + str(classifierSeq)] = [featureNo, featureValue, alpha]\n",
    "        weights = newWeights\n",
    "    return weekClassifiers\n",
    "\n",
    "iris = load_iris()\n",
    "#简单处理数据，分成种类1和-1\n",
    "iris.target[iris.target > 0] = 1\n",
    "iris.target[iris.target == 0] = -1\n",
    "weekClassifiers = adaBoost(iris.data, iris.target, 50)\n",
    "print(weekClassifiers)"
   ]
  },
  {
   "cell_type": "code",
   "execution_count": null,
   "metadata": {
    "collapsed": true
   },
   "outputs": [],
   "source": []
  }
 ],
 "metadata": {
  "kernelspec": {
   "display_name": "Python 3",
   "language": "python",
   "name": "python3"
  },
  "language_info": {
   "codemirror_mode": {
    "name": "ipython",
    "version": 3
   },
   "file_extension": ".py",
   "mimetype": "text/x-python",
   "name": "python",
   "nbconvert_exporter": "python",
   "pygments_lexer": "ipython3",
   "version": "3.6.2"
  }
 },
 "nbformat": 4,
 "nbformat_minor": 2
}

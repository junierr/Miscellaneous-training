{
 "cells": [
  {
   "cell_type": "code",
   "execution_count": 68,
   "metadata": {},
   "outputs": [
    {
     "data": {
      "text/html": [
       "<div>\n",
       "<style scoped>\n",
       "    .dataframe tbody tr th:only-of-type {\n",
       "        vertical-align: middle;\n",
       "    }\n",
       "\n",
       "    .dataframe tbody tr th {\n",
       "        vertical-align: top;\n",
       "    }\n",
       "\n",
       "    .dataframe thead th {\n",
       "        text-align: right;\n",
       "    }\n",
       "</style>\n",
       "<table border=\"1\" class=\"dataframe\">\n",
       "  <thead>\n",
       "    <tr style=\"text-align: right;\">\n",
       "      <th></th>\n",
       "      <th>Unnamed: 0</th>\n",
       "      <th>content</th>\n",
       "      <th>time</th>\n",
       "    </tr>\n",
       "  </thead>\n",
       "  <tbody>\n",
       "    <tr>\n",
       "      <th>0</th>\n",
       "      <td>0</td>\n",
       "      <td>幸而大雾四起，隐匿了我对你的爱</td>\n",
       "      <td>1609146203884</td>\n",
       "    </tr>\n",
       "    <tr>\n",
       "      <th>1</th>\n",
       "      <td>1</td>\n",
       "      <td>小鲸，别唤了，就算你再替我招来多少云雾，她也不会从雾里走出来。</td>\n",
       "      <td>1609145818175</td>\n",
       "    </tr>\n",
       "    <tr>\n",
       "      <th>2</th>\n",
       "      <td>2</td>\n",
       "      <td>很喜欢导航的一句话 您已偏离路线 请重新规划路线 在合适位置掉头</td>\n",
       "      <td>1609145734238</td>\n",
       "    </tr>\n",
       "    <tr>\n",
       "      <th>3</th>\n",
       "      <td>3</td>\n",
       "      <td>互相喜欢这个事有些不容易</td>\n",
       "      <td>1609145635762</td>\n",
       "    </tr>\n",
       "    <tr>\n",
       "      <th>4</th>\n",
       "      <td>4</td>\n",
       "      <td>“这次，我站在雾里，连自己都看不清，原来执着太久的东西，本来就没有意义”</td>\n",
       "      <td>1609145581974</td>\n",
       "    </tr>\n",
       "  </tbody>\n",
       "</table>\n",
       "</div>"
      ],
      "text/plain": [
       "   Unnamed: 0                               content           time\n",
       "0           0                       幸而大雾四起，隐匿了我对你的爱  1609146203884\n",
       "1           1       小鲸，别唤了，就算你再替我招来多少云雾，她也不会从雾里走出来。  1609145818175\n",
       "2           2      很喜欢导航的一句话 您已偏离路线 请重新规划路线 在合适位置掉头  1609145734238\n",
       "3           3                          互相喜欢这个事有些不容易  1609145635762\n",
       "4           4  “这次，我站在雾里，连自己都看不清，原来执着太久的东西，本来就没有意义”  1609145581974"
      ]
     },
     "execution_count": 68,
     "metadata": {},
     "output_type": "execute_result"
    }
   ],
   "source": [
    "# coding=utf-8\n",
    "import requests\n",
    "import re\n",
    "import pandas as pd\n",
    "import seaborn as sns\n",
    "import matplotlib.pyplot as plt\n",
    "import jieba\n",
    "import datetime\n",
    "import time\n",
    "import numpy as np\n",
    "\n",
    "plt.rcParams['font.sans-serif'] = ['KaiTi'] # 指定默认字体\n",
    "plt.rcParams['axes.unicode_minus'] = False # 解决保存图像是负号'-'显示为方块的问题\n",
    "\n",
    "df=pd.DataFrame(pd.read_csv('content.csv'))\n",
    "df.head()"
   ]
  },
  {
   "cell_type": "code",
   "execution_count": 4,
   "metadata": {},
   "outputs": [
    {
     "data": {
      "image/png": "[encoded data removed]",
      "text/plain": [
       "<Figure size 1080x216 with 1 Axes>"
      ]
     },
     "metadata": {
      "needs_background": "light"
     },
     "output_type": "display_data"
    }
   ],
   "source": [
    "#对时间进行了分析（按小时聚合）\n",
    "df['time'] = df['time'].map(lambda x: pd.Timestamp(x, unit=\"ms\"))\n",
    "daily=df\n",
    "daily.index = pd.to_datetime(daily['time'])\n",
    "daily=daily['content']\n",
    "hour = daily.groupby(pd.Grouper(freq='H')).count()\n",
    "ax = hour.plot(kind='line',figsize=(15,3))"
   ]
  },
  {
   "cell_type": "code",
   "execution_count": 47,
   "metadata": {},
   "outputs": [
    {
     "data": {
      "text/html": [
       "<div>\n",
       "<style scoped>\n",
       "    .dataframe tbody tr th:only-of-type {\n",
       "        vertical-align: middle;\n",
       "    }\n",
       "\n",
       "    .dataframe tbody tr th {\n",
       "        vertical-align: top;\n",
       "    }\n",
       "\n",
       "    .dataframe thead th {\n",
       "        text-align: right;\n",
       "    }\n",
       "</style>\n",
       "<table border=\"1\" class=\"dataframe\">\n",
       "  <thead>\n",
       "    <tr style=\"text-align: right;\">\n",
       "      <th></th>\n",
       "      <th>key</th>\n",
       "      <th>cnt</th>\n",
       "    </tr>\n",
       "  </thead>\n",
       "  <tbody>\n",
       "    <tr>\n",
       "      <th>1</th>\n",
       "      <td>大雾</td>\n",
       "      <td>237</td>\n",
       "    </tr>\n",
       "    <tr>\n",
       "      <th>2</th>\n",
       "      <td>四起</td>\n",
       "      <td>134</td>\n",
       "    </tr>\n",
       "    <tr>\n",
       "      <th>11</th>\n",
       "      <td>喜欢</td>\n",
       "      <td>133</td>\n",
       "    </tr>\n",
       "    <tr>\n",
       "      <th>171</th>\n",
       "      <td>爱</td>\n",
       "      <td>115</td>\n",
       "    </tr>\n",
       "    <tr>\n",
       "      <th>37</th>\n",
       "      <td>会</td>\n",
       "      <td>90</td>\n",
       "    </tr>\n",
       "  </tbody>\n",
       "</table>\n",
       "</div>"
      ],
      "text/plain": [
       "    key  cnt\n",
       "1    大雾  237\n",
       "2    四起  134\n",
       "11   喜欢  133\n",
       "171   爱  115\n",
       "37    会   90"
      ]
     },
     "execution_count": 47,
     "metadata": {},
     "output_type": "execute_result"
    }
   ],
   "source": [
    "#分词\n",
    "import logging\n",
    "import collections\n",
    "logger = logging.getLogger(__name__)\n",
    "#分词函数\n",
    "\n",
    "def stopwordslist(filepath):\n",
    "    stopwords = [line.strip() for line in open(filepath, 'r', encoding='utf-8').readlines()] #分别读取停用词表里的每一个词，\n",
    "    return stopwords #返回一个列表，里面的元素是一个个的停用词\n",
    "\n",
    "def jiebaword(text):\n",
    "\n",
    "    # 加载停用词\n",
    "    stoppath = 'cn_stopwords.txt'\n",
    "    logger.info(\"加载停用词 %s \" % stopwordslist(stoppath))\n",
    "\n",
    "\n",
    "    # 分词\n",
    "    logger.info(\"开始分词\")\n",
    "    data = [i for i in jieba.cut(text) if i not in stopwordslist(stoppath) and i != ' ' and i !=\"\\n\"]\n",
    "    # 使用collections统计词频\n",
    "    logger.info(\"转换成datafram\")\n",
    "    count_data = collections.Counter(list(data))\n",
    "    # 将结果转成dataframe\n",
    "    df = pd.DataFrame(count_data.items(), columns=['key', 'cnt'])\n",
    "\n",
    "    return df\n",
    "\n",
    "text=\"\"\n",
    "for i in df['content']:\n",
    "    text+=i\n",
    "#     list1=jieba.cut(i,cut_all=False)\n",
    "#     print(\"/\".join(list1))\n",
    "df_jieba=jiebaword(text)\n",
    "\n",
    "df_jieba=df_jieba.sort_values(by=['cnt'], ascending=False)\n",
    "df_jieba.head()"
   ]
  },
  {
   "cell_type": "code",
   "execution_count": 72,
   "metadata": {},
   "outputs": [
    {
     "data": {
      "image/png": "[encoded data removed]",
      "text/plain": [
       "<Figure size 432x288 with 1 Axes>"
      ]
     },
     "metadata": {},
     "output_type": "display_data"
    }
   ],
   "source": [
    "df_show=df_jieba[:5]\n",
    "df_show1=df_show\n",
    "df_show1.index=df_show['key']\n",
    "df_show1=df_show1.drop(['key'],axis=1)\n",
    "df_show1.plot.pie(subplots=True,autopct=\"%.1f%%\")\n",
    "plt.show()"
   ]
  },
  {
   "cell_type": "code",
   "execution_count": 48,
   "metadata": {},
   "outputs": [
    {
     "data": {
      "image/png": "[encoded data removed]",
      "text/plain": [
       "<Figure size 432x288 with 1 Axes>"
      ]
     },
     "metadata": {
      "needs_background": "light"
     },
     "output_type": "display_data"
    }
   ],
   "source": [
    "#每条评论情感分析\n",
    "from snownlp import SnowNLP\n",
    "sentimentslist = []\n",
    "for i in df['content']:\n",
    "    s = SnowNLP(i)\n",
    "    #print(s.sentiments)\n",
    "    sentimentslist.append(s.sentiments)\n",
    "    \n",
    "plt.hist(sentimentslist, bins = np.arange(0, 1, 0.01), facecolor = 'b')\n",
    "plt.xlabel('Sentiments Probability')\n",
    "plt.ylabel('Num')\n",
    "plt.title('Analysis of Sentiments')\n",
    "plt.show()"
   ]
  },
  {
   "cell_type": "code",
   "execution_count": 49,
   "metadata": {},
   "outputs": [
    {
     "data": {
      "image/png": "[encoded data removed]",
      "text/plain": [
       "<Figure size 432x288 with 1 Axes>"
      ]
     },
     "metadata": {
      "needs_background": "light"
     },
     "output_type": "display_data"
    }
   ],
   "source": [
    "#用词方面\n",
    "sentimentslist = []\n",
    "for i,j in zip(df_jieba['key'],df_jieba['cnt']):\n",
    "    s = SnowNLP(i)\n",
    "    #print(s.sentiments)\n",
    "    for item in range(j):\n",
    "        sentimentslist.append(s.sentiments)\n",
    "    \n",
    "plt.hist(sentimentslist, bins = np.arange(0, 1, 0.01), facecolor = 'b')\n",
    "plt.xlabel('Sentiments Probability')\n",
    "plt.ylabel('Num')\n",
    "plt.title('Analysis of Sentiments')\n",
    "plt.show()"
   ]
  },
  {
   "cell_type": "code",
   "execution_count": null,
   "metadata": {},
   "outputs": [],
   "source": []
  },
  {
   "cell_type": "code",
   "execution_count": null,
   "metadata": {},
   "outputs": [],
   "source": []
  }
 ],
 "metadata": {
  "kernelspec": {
   "display_name": "Python 3",
   "language": "python",
   "name": "python3"
  },
  "language_info": {
   "codemirror_mode": {
    "name": "ipython",
    "version": 3
   },
   "file_extension": ".py",
   "mimetype": "text/x-python",
   "name": "python",
   "nbconvert_exporter": "python",
   "pygments_lexer": "ipython3",
   "version": "3.6.12"
  }
 },
 "nbformat": 4,
 "nbformat_minor": 4
}

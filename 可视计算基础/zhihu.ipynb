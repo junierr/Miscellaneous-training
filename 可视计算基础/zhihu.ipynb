{
 "cells": [
  {
   "cell_type": "code",
   "execution_count": 59,
   "metadata": {},
   "outputs": [
    {
     "name": "stdout",
     "output_type": "stream",
     "text": [
      "['央行副行长潘功胜就「蚂蚁集团被约谈」有关情况答记者问，有哪些信息值得关注？', '客观地说电影《晴雅集》的影片质量到底怎么样？', '如何看待英国出现新冠病毒变异，被美媒嘲讽为「全球贱民」？', '如何评价 2021 年考研 408 难度？', '新《三国》为什么喜欢披头散发？', '如何评价《进击的巨人》最终季第四集？', '87 年大龄剩女感觉嫁不出去，焦虑到失眠怎么办？', '广西「百香果女童」被奸杀案改判，凶手被判死刑，还有哪些信息值得关注？', '山姆为什么有底气严查会员卡？不担心会员流失吗？', '如何看待菲总统要求美方提供 2000 万剂疫苗「否则美军最好离开」？', '如何评价西交数院对普通专业同学的歧视？', '一辈子不结婚会面临哪些困难？', '如何看待游戏《原神》中的角色「刻晴」登上某媒体 2020 年度图鉴？', 'NBA 2020-21 赛季快船 73:124 独行侠，如何评价这场比赛？', '如何看待港媒报道「香港高等法院法官批准黎智英保释」？', '一个男生怎么样才算是正在成熟了？', '《拆弹专家 2》中，如果刘德华的角色幸存，会被判什么刑？', '如何评价烽火戏诸侯的《剑来》?', '王者荣耀里面谁才是 T0 法师?', '如何看待农民工因工受伤全身瘫痪获赔 180 万元，律师拿走 90 万？这样的收费合理吗？', '2020 德玛西亚杯决赛 TES 3:0 WE 夺冠，如何评价这场比赛？', '《哈利波特》中，为什么霍格沃茨的学生不用学习文学数学等基础学科？', '家里有残疾哥哥，应该在相亲的第一次见面就坦白吗？甚至见面之前？', '如何看待日本福冈超 80 % 的学校规定学生只能穿白内衣，如若违规需解开上衣检查，还被老师以成绩为要挟？', '如果唐僧脾气暴躁、撸胳膊挽袖子自己主动打妖怪，那孙悟空在取经团队中会有怎样的变化？', '为什么合伙做生意，大部分都不欢而散？', '《赛博朋克 2077》主线剧情讲了怎样的故事？', '如果考研初试感觉不理想，接下来该怎么办？', '怎么看待姜云升这个人？', '人类真正可以信任的东西是什么？', '马上要参加教资面试了，但是毫无头绪，怎么准备？', '为什么杜兰特和欧文的关系那么好?', '请问如何看待西点军校爆发大规模作弊丑闻？', '有哪些家居用品，家人一开始不理解，用后却被圈粉？', '有什么过来人的经验想告诉初三的学生?', '你觉得孔子最了不起的地方是什么？', '长期炒股的人有哪些经验教训？', '如何评价东方卫视《我们的歌》第二季第十二期？', '为什么库里队友配置下降后连个人表现都下降这么多，他不能像乔科詹那样单核带队吗？', '在国外旅行时你有什么独特的沟通方法吗？', '现在就死和绝对永生，你选哪个？', '《追光吧！哥哥》受到的吐槽为什么比《乘风破浪的姐姐》多？', '我妈找朋友配了台电脑，花了 4 千多，大家帮我看一下有被坑吗?', '如何评价电视剧《大秦赋》大结局？', '嫌犯成植物人昏迷 17 年后苏醒被抓捕，律师称「作案时具备刑事责任能力就应担责」，你怎么看？', '部门经理周六在群里 @你应该回他吗?', '游客喜欢在景区刻「到此一游」是不是受孙悟空刻「齐天大圣到此一游」的影响？', '如果给你一辆《红色警戒》基地车、两座红警版金矿，多久可以统治世界？', '为什么那么多人会认为专升本可以改变自己的命运？', '牛顿在神学领域，研究出什么了吗？']\n",
      "['2334 万热度', '1033 万热度', '878 万热度', '676 万热度', '582 万热度', '512 万热度', '391 万热度', '343 万热度', '324 万热度', '273 万热度', '269 万热度', '265 万热度', '257 万热度', '252 万热度', '250 万热度', '210 万热度', '208 万热度', '184 万热度', '182 万热度', '176 万热度', '170 万热度', '155 万热度', '146 万热度', '131 万热度', '127 万热度', '124 万热度', '118 万热度', '99 万热度', '94 万热度', '91 万热度', '86 万热度', '84 万热度', '78 万热度', '76 万热度', '72 万热度', '64 万热度', '59 万热度', '59 万热度', '57 万热度', '57 万热度', '56 万热度', '53 万热度', '52 万热度', '50 万热度', '49 万热度', '48 万热度', '47 万热度', '46 万热度', '46 万热度', '43 万热度']\n"
     ]
    }
   ],
   "source": [
    "import requests\n",
    "import re\n",
    "import pandas as pd\n",
    "import seaborn as sns\n",
    "import matplotlib.pyplot as plt\n",
    "#url路径\n",
    "url='https://tophub.today/n/mproPpoq6O'\n",
    "#伪装一个标题\n",
    "headers={'user-agent':'45545454'}\n",
    "#设置延迟\n",
    "response=requests.get(url,headers=headers,timeout=30)\n",
    "#获取内容\n",
    "html=response.text\n",
    "biaoti=re.findall('<a href=.*? target=\"_blank\" .*?>(.*?)</a>',html)[3:53]\n",
    "redu=re.findall('<td>(.*?)</td>',html)[0:50]\n",
    "print(biaoti)\n",
    "print(redu)"
   ]
  },
  {
   "cell_type": "code",
   "execution_count": 60,
   "metadata": {},
   "outputs": [
    {
     "name": "stdout",
     "output_type": "stream",
     "text": [
      "                                                   内容      阅读数量\n",
      "0               央行副行长潘功胜就「蚂蚁集团被约谈」有关情况答记者问，有哪些信息值得关注？  2334 万热度\n",
      "1                              客观地说电影《晴雅集》的影片质量到底怎么样？  1033 万热度\n",
      "2                        如何看待英国出现新冠病毒变异，被美媒嘲讽为「全球贱民」？   878 万热度\n",
      "3                               如何评价 2021 年考研 408 难度？   676 万热度\n",
      "4                                     新《三国》为什么喜欢披头散发？   582 万热度\n",
      "5                                  如何评价《进击的巨人》最终季第四集？   512 万热度\n",
      "6                            87 年大龄剩女感觉嫁不出去，焦虑到失眠怎么办？   391 万热度\n",
      "7                  广西「百香果女童」被奸杀案改判，凶手被判死刑，还有哪些信息值得关注？   343 万热度\n",
      "8                             山姆为什么有底气严查会员卡？不担心会员流失吗？   324 万热度\n",
      "9                  如何看待菲总统要求美方提供 2000 万剂疫苗「否则美军最好离开」？   273 万热度\n",
      "10                                如何评价西交数院对普通专业同学的歧视？   269 万热度\n",
      "11                                     一辈子不结婚会面临哪些困难？   265 万热度\n",
      "12                 如何看待游戏《原神》中的角色「刻晴」登上某媒体 2020 年度图鉴？   257 万热度\n",
      "13              NBA 2020-21 赛季快船 73:124 独行侠，如何评价这场比赛？   252 万热度\n",
      "14                         如何看待港媒报道「香港高等法院法官批准黎智英保释」？   250 万热度\n",
      "15                                   一个男生怎么样才算是正在成熟了？   210 万热度\n",
      "16                       《拆弹专家 2》中，如果刘德华的角色幸存，会被判什么刑？   208 万热度\n",
      "17                                    如何评价烽火戏诸侯的《剑来》?   184 万热度\n",
      "18                                   王者荣耀里面谁才是 T0 法师?   182 万热度\n",
      "19       如何看待农民工因工受伤全身瘫痪获赔 180 万元，律师拿走 90 万？这样的收费合理吗？   176 万热度\n",
      "20               2020 德玛西亚杯决赛 TES 3:0 WE 夺冠，如何评价这场比赛？   170 万热度\n",
      "21                   《哈利波特》中，为什么霍格沃茨的学生不用学习文学数学等基础学科？   155 万热度\n",
      "22                    家里有残疾哥哥，应该在相亲的第一次见面就坦白吗？甚至见面之前？   146 万热度\n",
      "23  如何看待日本福冈超 80 % 的学校规定学生只能穿白内衣，如若违规需解开上衣检查，还被老师以...   131 万热度\n",
      "24          如果唐僧脾气暴躁、撸胳膊挽袖子自己主动打妖怪，那孙悟空在取经团队中会有怎样的变化？   127 万热度\n",
      "25                                 为什么合伙做生意，大部分都不欢而散？   124 万热度\n",
      "26                            《赛博朋克 2077》主线剧情讲了怎样的故事？   118 万热度\n",
      "27                               如果考研初试感觉不理想，接下来该怎么办？    99 万热度\n",
      "28                                        怎么看待姜云升这个人？    94 万热度\n",
      "29                                    人类真正可以信任的东西是什么？    91 万热度\n",
      "30                            马上要参加教资面试了，但是毫无头绪，怎么准备？    86 万热度\n",
      "31                                   为什么杜兰特和欧文的关系那么好?    84 万热度\n",
      "32                               请问如何看待西点军校爆发大规模作弊丑闻？    78 万热度\n",
      "33                           有哪些家居用品，家人一开始不理解，用后却被圈粉？    76 万热度\n",
      "34                                 有什么过来人的经验想告诉初三的学生?    72 万热度\n",
      "35                                   你觉得孔子最了不起的地方是什么？    64 万热度\n",
      "36                                     长期炒股的人有哪些经验教训？    59 万热度\n",
      "37                             如何评价东方卫视《我们的歌》第二季第十二期？    59 万热度\n",
      "38            为什么库里队友配置下降后连个人表现都下降这么多，他不能像乔科詹那样单核带队吗？    57 万热度\n",
      "39                                在国外旅行时你有什么独特的沟通方法吗？    57 万热度\n",
      "40                                    现在就死和绝对永生，你选哪个？    56 万热度\n",
      "41                       《追光吧！哥哥》受到的吐槽为什么比《乘风破浪的姐姐》多？    53 万热度\n",
      "42                    我妈找朋友配了台电脑，花了 4 千多，大家帮我看一下有被坑吗?    52 万热度\n",
      "43                                   如何评价电视剧《大秦赋》大结局？    50 万热度\n",
      "44     嫌犯成植物人昏迷 17 年后苏醒被抓捕，律师称「作案时具备刑事责任能力就应担责」，你怎么看？    49 万热度\n",
      "45                                 部门经理周六在群里 @你应该回他吗?    48 万热度\n",
      "46               游客喜欢在景区刻「到此一游」是不是受孙悟空刻「齐天大圣到此一游」的影响？    47 万热度\n",
      "47                  如果给你一辆《红色警戒》基地车、两座红警版金矿，多久可以统治世界？    46 万热度\n",
      "48                            为什么那么多人会认为专升本可以改变自己的命运？    46 万热度\n",
      "49                                   牛顿在神学领域，研究出什么了吗？    43 万热度\n"
     ]
    }
   ],
   "source": [
    "#创建字典\n",
    "dict = {'内容':biaoti,'阅读数量':redu}\n",
    "x = pd.DataFrame(dict)\n",
    "print(x)"
   ]
  },
  {
   "cell_type": "code",
   "execution_count": 31,
   "metadata": {},
   "outputs": [],
   "source": [
    "dic=[]\n",
    "for i in range(50):\n",
    "    dic.append([i+1,biaoti[i],redu[i][:-3]]) #去掉中文\n",
    "\n",
    "file=pd.DataFrame(dic,columns=['排名','知乎今日热榜','热度（单位：万）'])\n",
    "#print(file)\n",
    "file.to_csv('zhihu.csv',encoding='utf_8_sig')"
   ]
  },
  {
   "cell_type": "code",
   "execution_count": 62,
   "metadata": {},
   "outputs": [
    {
     "data": {
      "text/html": [
       "<div>\n",
       "<style scoped>\n",
       "    .dataframe tbody tr th:only-of-type {\n",
       "        vertical-align: middle;\n",
       "    }\n",
       "\n",
       "    .dataframe tbody tr th {\n",
       "        vertical-align: top;\n",
       "    }\n",
       "\n",
       "    .dataframe thead th {\n",
       "        text-align: right;\n",
       "    }\n",
       "</style>\n",
       "<table border=\"1\" class=\"dataframe\">\n",
       "  <thead>\n",
       "    <tr style=\"text-align: right;\">\n",
       "      <th></th>\n",
       "      <th>Unnamed: 0</th>\n",
       "      <th>排名</th>\n",
       "      <th>知乎今日热榜</th>\n",
       "      <th>热度（单位：万）</th>\n",
       "    </tr>\n",
       "  </thead>\n",
       "  <tbody>\n",
       "    <tr>\n",
       "      <th>0</th>\n",
       "      <td>0</td>\n",
       "      <td>1</td>\n",
       "      <td>央行副行长潘功胜就「蚂蚁集团被约谈」有关情况答记者问，有哪些信息值得关注？</td>\n",
       "      <td>2139</td>\n",
       "    </tr>\n",
       "    <tr>\n",
       "      <th>1</th>\n",
       "      <td>1</td>\n",
       "      <td>2</td>\n",
       "      <td>客观地说电影《晴雅集》的影片质量到底怎么样？</td>\n",
       "      <td>1016</td>\n",
       "    </tr>\n",
       "    <tr>\n",
       "      <th>2</th>\n",
       "      <td>2</td>\n",
       "      <td>3</td>\n",
       "      <td>如何看待英国出现新冠病毒变异，被美媒嘲讽为「全球贱民」？</td>\n",
       "      <td>852</td>\n",
       "    </tr>\n",
       "    <tr>\n",
       "      <th>3</th>\n",
       "      <td>3</td>\n",
       "      <td>4</td>\n",
       "      <td>如何评价 2021 年考研 408 难度？</td>\n",
       "      <td>613</td>\n",
       "    </tr>\n",
       "    <tr>\n",
       "      <th>4</th>\n",
       "      <td>4</td>\n",
       "      <td>5</td>\n",
       "      <td>如何看待游戏《原神》中的角色「刻晴」登上某媒体 2020 年度图鉴？</td>\n",
       "      <td>588</td>\n",
       "    </tr>\n",
       "  </tbody>\n",
       "</table>\n",
       "</div>"
      ],
      "text/plain": [
       "   Unnamed: 0  排名                                 知乎今日热榜  热度（单位：万）\n",
       "0           0   1  央行副行长潘功胜就「蚂蚁集团被约谈」有关情况答记者问，有哪些信息值得关注？      2139\n",
       "1           1   2                 客观地说电影《晴雅集》的影片质量到底怎么样？      1016\n",
       "2           2   3           如何看待英国出现新冠病毒变异，被美媒嘲讽为「全球贱民」？       852\n",
       "3           3   4                  如何评价 2021 年考研 408 难度？       613\n",
       "4           4   5     如何看待游戏《原神》中的角色「刻晴」登上某媒体 2020 年度图鉴？       588"
      ]
     },
     "execution_count": 62,
     "metadata": {},
     "output_type": "execute_result"
    }
   ],
   "source": [
    "df=pd.DataFrame(pd.read_csv('zhihu.csv'))\n",
    "df.head()"
   ]
  },
  {
   "cell_type": "code",
   "execution_count": 63,
   "metadata": {},
   "outputs": [
    {
     "data": {
      "text/html": [
       "<div>\n",
       "<style scoped>\n",
       "    .dataframe tbody tr th:only-of-type {\n",
       "        vertical-align: middle;\n",
       "    }\n",
       "\n",
       "    .dataframe tbody tr th {\n",
       "        vertical-align: top;\n",
       "    }\n",
       "\n",
       "    .dataframe thead th {\n",
       "        text-align: right;\n",
       "    }\n",
       "</style>\n",
       "<table border=\"1\" class=\"dataframe\">\n",
       "  <thead>\n",
       "    <tr style=\"text-align: right;\">\n",
       "      <th></th>\n",
       "      <th>Unnamed: 0</th>\n",
       "      <th>排名</th>\n",
       "      <th>热度（单位：万）</th>\n",
       "    </tr>\n",
       "  </thead>\n",
       "  <tbody>\n",
       "    <tr>\n",
       "      <th>count</th>\n",
       "      <td>50.00000</td>\n",
       "      <td>50.00000</td>\n",
       "      <td>50.000000</td>\n",
       "    </tr>\n",
       "    <tr>\n",
       "      <th>mean</th>\n",
       "      <td>24.50000</td>\n",
       "      <td>25.50000</td>\n",
       "      <td>237.280000</td>\n",
       "    </tr>\n",
       "    <tr>\n",
       "      <th>std</th>\n",
       "      <td>14.57738</td>\n",
       "      <td>14.57738</td>\n",
       "      <td>342.983432</td>\n",
       "    </tr>\n",
       "    <tr>\n",
       "      <th>min</th>\n",
       "      <td>0.00000</td>\n",
       "      <td>1.00000</td>\n",
       "      <td>45.000000</td>\n",
       "    </tr>\n",
       "    <tr>\n",
       "      <th>25%</th>\n",
       "      <td>12.25000</td>\n",
       "      <td>13.25000</td>\n",
       "      <td>63.250000</td>\n",
       "    </tr>\n",
       "    <tr>\n",
       "      <th>50%</th>\n",
       "      <td>24.50000</td>\n",
       "      <td>25.50000</td>\n",
       "      <td>131.500000</td>\n",
       "    </tr>\n",
       "    <tr>\n",
       "      <th>75%</th>\n",
       "      <td>36.75000</td>\n",
       "      <td>37.75000</td>\n",
       "      <td>246.000000</td>\n",
       "    </tr>\n",
       "    <tr>\n",
       "      <th>max</th>\n",
       "      <td>49.00000</td>\n",
       "      <td>50.00000</td>\n",
       "      <td>2139.000000</td>\n",
       "    </tr>\n",
       "  </tbody>\n",
       "</table>\n",
       "</div>"
      ],
      "text/plain": [
       "       Unnamed: 0        排名     热度（单位：万）\n",
       "count    50.00000  50.00000    50.000000\n",
       "mean     24.50000  25.50000   237.280000\n",
       "std      14.57738  14.57738   342.983432\n",
       "min       0.00000   1.00000    45.000000\n",
       "25%      12.25000  13.25000    63.250000\n",
       "50%      24.50000  25.50000   131.500000\n",
       "75%      36.75000  37.75000   246.000000\n",
       "max      49.00000  50.00000  2139.000000"
      ]
     },
     "execution_count": 63,
     "metadata": {},
     "output_type": "execute_result"
    }
   ],
   "source": [
    "#数据清洗\n",
    "df.drop('知乎今日热榜',axis=1,inplace=True)\n",
    "df.isnull().sum()#空值\n",
    "\n",
    "#缺失值\n",
    "df[df.isnull().values==True]\n",
    "\n",
    "df.describe()"
   ]
  },
  {
   "cell_type": "code",
   "execution_count": 24,
   "metadata": {},
   "outputs": [
    {
     "data": {
      "text/html": [
       "<div>\n",
       "<style scoped>\n",
       "    .dataframe tbody tr th:only-of-type {\n",
       "        vertical-align: middle;\n",
       "    }\n",
       "\n",
       "    .dataframe tbody tr th {\n",
       "        vertical-align: top;\n",
       "    }\n",
       "\n",
       "    .dataframe thead th {\n",
       "        text-align: right;\n",
       "    }\n",
       "</style>\n",
       "<table border=\"1\" class=\"dataframe\">\n",
       "  <thead>\n",
       "    <tr style=\"text-align: right;\">\n",
       "      <th></th>\n",
       "      <th>Unnamed: 0</th>\n",
       "      <th>排名</th>\n",
       "      <th>热度（单位：万）</th>\n",
       "    </tr>\n",
       "  </thead>\n",
       "  <tbody>\n",
       "    <tr>\n",
       "      <th>Unnamed: 0</th>\n",
       "      <td>1.000000</td>\n",
       "      <td>1.000000</td>\n",
       "      <td>-0.661614</td>\n",
       "    </tr>\n",
       "    <tr>\n",
       "      <th>排名</th>\n",
       "      <td>1.000000</td>\n",
       "      <td>1.000000</td>\n",
       "      <td>-0.661614</td>\n",
       "    </tr>\n",
       "    <tr>\n",
       "      <th>热度（单位：万）</th>\n",
       "      <td>-0.661614</td>\n",
       "      <td>-0.661614</td>\n",
       "      <td>1.000000</td>\n",
       "    </tr>\n",
       "  </tbody>\n",
       "</table>\n",
       "</div>"
      ],
      "text/plain": [
       "            Unnamed: 0        排名  热度（单位：万）\n",
       "Unnamed: 0    1.000000  1.000000 -0.661614\n",
       "排名            1.000000  1.000000 -0.661614\n",
       "热度（单位：万）     -0.661614 -0.661614  1.000000"
      ]
     },
     "execution_count": 24,
     "metadata": {},
     "output_type": "execute_result"
    }
   ],
   "source": [
    "df.corr()"
   ]
  },
  {
   "cell_type": "code",
   "execution_count": 64,
   "metadata": {},
   "outputs": [
    {
     "name": "stderr",
     "output_type": "stream",
     "text": [
      "Exception in Tkinter callback\n",
      "Traceback (most recent call last):\n",
      "  File \"C:\\ProgramData\\Anaconda3\\envs\\requests\\lib\\tkinter\\__init__.py\", line 1705, in __call__\n",
      "    return self.func(*args)\n",
      "  File \"C:\\ProgramData\\Anaconda3\\envs\\requests\\lib\\tkinter\\__init__.py\", line 749, in callit\n",
      "    func(*args)\n",
      "  File \"C:\\ProgramData\\Anaconda3\\envs\\requests\\lib\\site-packages\\matplotlib\\backends\\_backend_tk.py\", line 253, in idle_draw\n",
      "    self.draw()\n",
      "  File \"C:\\ProgramData\\Anaconda3\\envs\\requests\\lib\\site-packages\\matplotlib\\backends\\backend_tkagg.py\", line 9, in draw\n",
      "    super(FigureCanvasTkAgg, self).draw()\n",
      "  File \"C:\\ProgramData\\Anaconda3\\envs\\requests\\lib\\site-packages\\matplotlib\\backends\\backend_agg.py\", line 407, in draw\n",
      "    self.figure.draw(self.renderer)\n",
      "  File \"C:\\ProgramData\\Anaconda3\\envs\\requests\\lib\\site-packages\\matplotlib\\backend_bases.py\", line 1544, in _draw\n",
      "    def _draw(renderer): raise Done(renderer)\n",
      "matplotlib.backend_bases._get_renderer.<locals>.Done: <matplotlib.backends.backend_agg.RendererAgg object at 0x0000021ABB524438>\n",
      "Exception in Tkinter callback\n",
      "Traceback (most recent call last):\n",
      "  File \"C:\\ProgramData\\Anaconda3\\envs\\requests\\lib\\tkinter\\__init__.py\", line 1705, in __call__\n",
      "    return self.func(*args)\n",
      "  File \"C:\\ProgramData\\Anaconda3\\envs\\requests\\lib\\site-packages\\matplotlib\\backends\\_backend_tk.py\", line 242, in resize\n",
      "    self.draw()\n",
      "  File \"C:\\ProgramData\\Anaconda3\\envs\\requests\\lib\\site-packages\\matplotlib\\backends\\backend_tkagg.py\", line 9, in draw\n",
      "    super(FigureCanvasTkAgg, self).draw()\n",
      "  File \"C:\\ProgramData\\Anaconda3\\envs\\requests\\lib\\site-packages\\matplotlib\\backends\\backend_agg.py\", line 407, in draw\n",
      "    self.figure.draw(self.renderer)\n",
      "  File \"C:\\ProgramData\\Anaconda3\\envs\\requests\\lib\\site-packages\\matplotlib\\backend_bases.py\", line 1544, in _draw\n",
      "    def _draw(renderer): raise Done(renderer)\n",
      "matplotlib.backend_bases._get_renderer.<locals>.Done: <matplotlib.backends.backend_agg.RendererAgg object at 0x0000021ABB524438>\n",
      "Exception in Tkinter callback\n",
      "Traceback (most recent call last):\n",
      "  File \"C:\\ProgramData\\Anaconda3\\envs\\requests\\lib\\tkinter\\__init__.py\", line 1705, in __call__\n",
      "    return self.func(*args)\n",
      "  File \"C:\\ProgramData\\Anaconda3\\envs\\requests\\lib\\tkinter\\__init__.py\", line 749, in callit\n",
      "    func(*args)\n",
      "  File \"C:\\ProgramData\\Anaconda3\\envs\\requests\\lib\\site-packages\\matplotlib\\backends\\_backend_tk.py\", line 253, in idle_draw\n",
      "    self.draw()\n",
      "  File \"C:\\ProgramData\\Anaconda3\\envs\\requests\\lib\\site-packages\\matplotlib\\backends\\backend_tkagg.py\", line 9, in draw\n",
      "    super(FigureCanvasTkAgg, self).draw()\n",
      "  File \"C:\\ProgramData\\Anaconda3\\envs\\requests\\lib\\site-packages\\matplotlib\\backends\\backend_agg.py\", line 407, in draw\n",
      "    self.figure.draw(self.renderer)\n",
      "  File \"C:\\ProgramData\\Anaconda3\\envs\\requests\\lib\\site-packages\\matplotlib\\backend_bases.py\", line 1544, in _draw\n",
      "    def _draw(renderer): raise Done(renderer)\n",
      "matplotlib.backend_bases._get_renderer.<locals>.Done: <matplotlib.backends.backend_agg.RendererAgg object at 0x0000021ABB524438>\n"
     ]
    },
    {
     "data": {
      "image/png": "[encoded data removed]",
      "text/plain": [
       "<Figure size 432x288 with 1 Axes>"
      ]
     },
     "metadata": {
      "needs_background": "light"
     },
     "output_type": "display_data"
    }
   ],
   "source": [
    "#柱状图\n",
    "def p1():\n",
    "    x = df['排名']\n",
    "    y = df['热度（单位：万）']\n",
    "    plt.xlabel('rank')\n",
    "    plt.ylabel('hot')\n",
    "    plt.bar(x,y)\n",
    "    plt.title(\"the picture with rank and hot\")\n",
    "    plt.show()\n",
    "p1()"
   ]
  },
  {
   "cell_type": "code",
   "execution_count": 66,
   "metadata": {},
   "outputs": [
    {
     "name": "stderr",
     "output_type": "stream",
     "text": [
      "Exception in Tkinter callback\n",
      "Traceback (most recent call last):\n",
      "  File \"C:\\ProgramData\\Anaconda3\\envs\\requests\\lib\\tkinter\\__init__.py\", line 1705, in __call__\n",
      "    return self.func(*args)\n",
      "  File \"C:\\ProgramData\\Anaconda3\\envs\\requests\\lib\\tkinter\\__init__.py\", line 749, in callit\n",
      "    func(*args)\n",
      "  File \"C:\\ProgramData\\Anaconda3\\envs\\requests\\lib\\site-packages\\matplotlib\\backends\\_backend_tk.py\", line 253, in idle_draw\n",
      "    self.draw()\n",
      "  File \"C:\\ProgramData\\Anaconda3\\envs\\requests\\lib\\site-packages\\matplotlib\\backends\\backend_tkagg.py\", line 9, in draw\n",
      "    super(FigureCanvasTkAgg, self).draw()\n",
      "  File \"C:\\ProgramData\\Anaconda3\\envs\\requests\\lib\\site-packages\\matplotlib\\backends\\backend_agg.py\", line 407, in draw\n",
      "    self.figure.draw(self.renderer)\n",
      "  File \"C:\\ProgramData\\Anaconda3\\envs\\requests\\lib\\site-packages\\matplotlib\\backend_bases.py\", line 1544, in _draw\n",
      "    def _draw(renderer): raise Done(renderer)\n",
      "matplotlib.backend_bases._get_renderer.<locals>.Done: <matplotlib.backends.backend_agg.RendererAgg object at 0x0000021ABD51F278>\n",
      "Exception in Tkinter callback\n",
      "Traceback (most recent call last):\n",
      "  File \"C:\\ProgramData\\Anaconda3\\envs\\requests\\lib\\tkinter\\__init__.py\", line 1705, in __call__\n",
      "    return self.func(*args)\n",
      "  File \"C:\\ProgramData\\Anaconda3\\envs\\requests\\lib\\site-packages\\matplotlib\\backends\\_backend_tk.py\", line 242, in resize\n",
      "    self.draw()\n",
      "  File \"C:\\ProgramData\\Anaconda3\\envs\\requests\\lib\\site-packages\\matplotlib\\backends\\backend_tkagg.py\", line 9, in draw\n",
      "    super(FigureCanvasTkAgg, self).draw()\n",
      "  File \"C:\\ProgramData\\Anaconda3\\envs\\requests\\lib\\site-packages\\matplotlib\\backends\\backend_agg.py\", line 407, in draw\n",
      "    self.figure.draw(self.renderer)\n",
      "  File \"C:\\ProgramData\\Anaconda3\\envs\\requests\\lib\\site-packages\\matplotlib\\backend_bases.py\", line 1544, in _draw\n",
      "    def _draw(renderer): raise Done(renderer)\n",
      "matplotlib.backend_bases._get_renderer.<locals>.Done: <matplotlib.backends.backend_agg.RendererAgg object at 0x0000021ABD51F278>\n",
      "Exception in Tkinter callback\n",
      "Traceback (most recent call last):\n",
      "  File \"C:\\ProgramData\\Anaconda3\\envs\\requests\\lib\\tkinter\\__init__.py\", line 1705, in __call__\n",
      "    return self.func(*args)\n",
      "  File \"C:\\ProgramData\\Anaconda3\\envs\\requests\\lib\\tkinter\\__init__.py\", line 749, in callit\n",
      "    func(*args)\n",
      "  File \"C:\\ProgramData\\Anaconda3\\envs\\requests\\lib\\site-packages\\matplotlib\\backends\\_backend_tk.py\", line 253, in idle_draw\n",
      "    self.draw()\n",
      "  File \"C:\\ProgramData\\Anaconda3\\envs\\requests\\lib\\site-packages\\matplotlib\\backends\\backend_tkagg.py\", line 9, in draw\n",
      "    super(FigureCanvasTkAgg, self).draw()\n",
      "  File \"C:\\ProgramData\\Anaconda3\\envs\\requests\\lib\\site-packages\\matplotlib\\backends\\backend_agg.py\", line 407, in draw\n",
      "    self.figure.draw(self.renderer)\n",
      "  File \"C:\\ProgramData\\Anaconda3\\envs\\requests\\lib\\site-packages\\matplotlib\\backend_bases.py\", line 1544, in _draw\n",
      "    def _draw(renderer): raise Done(renderer)\n",
      "matplotlib.backend_bases._get_renderer.<locals>.Done: <matplotlib.backends.backend_agg.RendererAgg object at 0x0000021ABD51F278>\n"
     ]
    },
    {
     "data": {
      "image/png": "[encoded data removed]",
      "text/plain": [
       "<Figure size 432x288 with 1 Axes>"
      ]
     },
     "metadata": {
      "needs_background": "light"
     },
     "output_type": "display_data"
    }
   ],
   "source": [
    "#散点图\n",
    "def p2():\n",
    "    x = df['排名']\n",
    "    y = df['热度（单位：万）']\n",
    "    plt.xlabel('rank')\n",
    "    plt.ylabel('hot')\n",
    "    plt.scatter(x,y,color=\"red\",linewidth=2)\n",
    "    plt.title(\"the picture with rank and hot\")\n",
    "    plt.show()\n",
    "p2()"
   ]
  },
  {
   "cell_type": "code",
   "execution_count": 67,
   "metadata": {},
   "outputs": [
    {
     "name": "stderr",
     "output_type": "stream",
     "text": [
      "Exception in Tkinter callback\n",
      "Traceback (most recent call last):\n",
      "  File \"C:\\ProgramData\\Anaconda3\\envs\\requests\\lib\\tkinter\\__init__.py\", line 1705, in __call__\n",
      "    return self.func(*args)\n",
      "  File \"C:\\ProgramData\\Anaconda3\\envs\\requests\\lib\\tkinter\\__init__.py\", line 749, in callit\n",
      "    func(*args)\n",
      "  File \"C:\\ProgramData\\Anaconda3\\envs\\requests\\lib\\site-packages\\matplotlib\\backends\\_backend_tk.py\", line 253, in idle_draw\n",
      "    self.draw()\n",
      "  File \"C:\\ProgramData\\Anaconda3\\envs\\requests\\lib\\site-packages\\matplotlib\\backends\\backend_tkagg.py\", line 9, in draw\n",
      "    super(FigureCanvasTkAgg, self).draw()\n",
      "  File \"C:\\ProgramData\\Anaconda3\\envs\\requests\\lib\\site-packages\\matplotlib\\backends\\backend_agg.py\", line 407, in draw\n",
      "    self.figure.draw(self.renderer)\n",
      "  File \"C:\\ProgramData\\Anaconda3\\envs\\requests\\lib\\site-packages\\matplotlib\\backend_bases.py\", line 1544, in _draw\n",
      "    def _draw(renderer): raise Done(renderer)\n",
      "matplotlib.backend_bases._get_renderer.<locals>.Done: <matplotlib.backends.backend_agg.RendererAgg object at 0x0000021ABD63B588>\n",
      "Exception in Tkinter callback\n",
      "Traceback (most recent call last):\n",
      "  File \"C:\\ProgramData\\Anaconda3\\envs\\requests\\lib\\tkinter\\__init__.py\", line 1705, in __call__\n",
      "    return self.func(*args)\n",
      "  File \"C:\\ProgramData\\Anaconda3\\envs\\requests\\lib\\site-packages\\matplotlib\\backends\\_backend_tk.py\", line 242, in resize\n",
      "    self.draw()\n",
      "  File \"C:\\ProgramData\\Anaconda3\\envs\\requests\\lib\\site-packages\\matplotlib\\backends\\backend_tkagg.py\", line 9, in draw\n",
      "    super(FigureCanvasTkAgg, self).draw()\n",
      "  File \"C:\\ProgramData\\Anaconda3\\envs\\requests\\lib\\site-packages\\matplotlib\\backends\\backend_agg.py\", line 407, in draw\n",
      "    self.figure.draw(self.renderer)\n",
      "  File \"C:\\ProgramData\\Anaconda3\\envs\\requests\\lib\\site-packages\\matplotlib\\backend_bases.py\", line 1544, in _draw\n",
      "    def _draw(renderer): raise Done(renderer)\n",
      "matplotlib.backend_bases._get_renderer.<locals>.Done: <matplotlib.backends.backend_agg.RendererAgg object at 0x0000021ABD63B588>\n",
      "Exception in Tkinter callback\n",
      "Traceback (most recent call last):\n",
      "  File \"C:\\ProgramData\\Anaconda3\\envs\\requests\\lib\\tkinter\\__init__.py\", line 1705, in __call__\n",
      "    return self.func(*args)\n",
      "  File \"C:\\ProgramData\\Anaconda3\\envs\\requests\\lib\\tkinter\\__init__.py\", line 749, in callit\n",
      "    func(*args)\n",
      "  File \"C:\\ProgramData\\Anaconda3\\envs\\requests\\lib\\site-packages\\matplotlib\\backends\\_backend_tk.py\", line 253, in idle_draw\n",
      "    self.draw()\n",
      "  File \"C:\\ProgramData\\Anaconda3\\envs\\requests\\lib\\site-packages\\matplotlib\\backends\\backend_tkagg.py\", line 9, in draw\n",
      "    super(FigureCanvasTkAgg, self).draw()\n",
      "  File \"C:\\ProgramData\\Anaconda3\\envs\\requests\\lib\\site-packages\\matplotlib\\backends\\backend_agg.py\", line 407, in draw\n",
      "    self.figure.draw(self.renderer)\n",
      "  File \"C:\\ProgramData\\Anaconda3\\envs\\requests\\lib\\site-packages\\matplotlib\\backend_bases.py\", line 1544, in _draw\n",
      "    def _draw(renderer): raise Done(renderer)\n",
      "matplotlib.backend_bases._get_renderer.<locals>.Done: <matplotlib.backends.backend_agg.RendererAgg object at 0x0000021ABD63B588>\n"
     ]
    },
    {
     "data": {
      "image/png": "[encoded data removed]",
      "text/plain": [
       "<Figure size 432x288 with 1 Axes>"
      ]
     },
     "metadata": {
      "needs_background": "light"
     },
     "output_type": "display_data"
    }
   ],
   "source": [
    "#折线图\n",
    "def p3():\n",
    "    x = df['排名']\n",
    "    y = df['热度（单位：万）']\n",
    "    plt.title(\"the picture with rank and hot\")\n",
    "    plt.xlabel('rank')\n",
    "    plt.ylabel('hot')\n",
    "    plt.plot(x,y)\n",
    "    plt.scatter(x,y)\n",
    "    plt.show()\n",
    "p3()"
   ]
  },
  {
   "cell_type": "code",
   "execution_count": 43,
   "metadata": {
    "code_folding": [
     0
    ]
   },
   "outputs": [
    {
     "data": {
      "text/plain": [
       "<seaborn.axisgrid.FacetGrid at 0x21ab9c2fe10>"
      ]
     },
     "execution_count": 43,
     "metadata": {},
     "output_type": "execute_result"
    },
    {
     "name": "stderr",
     "output_type": "stream",
     "text": [
      "Exception in Tkinter callback\n",
      "Traceback (most recent call last):\n",
      "  File \"C:\\ProgramData\\Anaconda3\\envs\\requests\\lib\\tkinter\\__init__.py\", line 1705, in __call__\n",
      "    return self.func(*args)\n",
      "  File \"C:\\ProgramData\\Anaconda3\\envs\\requests\\lib\\tkinter\\__init__.py\", line 749, in callit\n",
      "    func(*args)\n",
      "  File \"C:\\ProgramData\\Anaconda3\\envs\\requests\\lib\\site-packages\\matplotlib\\backends\\_backend_tk.py\", line 253, in idle_draw\n",
      "    self.draw()\n",
      "  File \"C:\\ProgramData\\Anaconda3\\envs\\requests\\lib\\site-packages\\matplotlib\\backends\\backend_tkagg.py\", line 9, in draw\n",
      "    super(FigureCanvasTkAgg, self).draw()\n",
      "  File \"C:\\ProgramData\\Anaconda3\\envs\\requests\\lib\\site-packages\\matplotlib\\backends\\backend_agg.py\", line 407, in draw\n",
      "    self.figure.draw(self.renderer)\n",
      "  File \"C:\\ProgramData\\Anaconda3\\envs\\requests\\lib\\site-packages\\matplotlib\\backend_bases.py\", line 1544, in _draw\n",
      "    def _draw(renderer): raise Done(renderer)\n",
      "matplotlib.backend_bases._get_renderer.<locals>.Done: <matplotlib.backends.backend_agg.RendererAgg object at 0x0000021AB9BCF2B0>\n",
      "Exception in Tkinter callback\n",
      "Traceback (most recent call last):\n",
      "  File \"C:\\ProgramData\\Anaconda3\\envs\\requests\\lib\\tkinter\\__init__.py\", line 1705, in __call__\n",
      "    return self.func(*args)\n",
      "  File \"C:\\ProgramData\\Anaconda3\\envs\\requests\\lib\\site-packages\\matplotlib\\backends\\_backend_tk.py\", line 242, in resize\n",
      "    self.draw()\n",
      "  File \"C:\\ProgramData\\Anaconda3\\envs\\requests\\lib\\site-packages\\matplotlib\\backends\\backend_tkagg.py\", line 9, in draw\n",
      "    super(FigureCanvasTkAgg, self).draw()\n",
      "  File \"C:\\ProgramData\\Anaconda3\\envs\\requests\\lib\\site-packages\\matplotlib\\backends\\backend_agg.py\", line 407, in draw\n",
      "    self.figure.draw(self.renderer)\n",
      "  File \"C:\\ProgramData\\Anaconda3\\envs\\requests\\lib\\site-packages\\matplotlib\\backend_bases.py\", line 1544, in _draw\n",
      "    def _draw(renderer): raise Done(renderer)\n",
      "matplotlib.backend_bases._get_renderer.<locals>.Done: <matplotlib.backends.backend_agg.RendererAgg object at 0x0000021AB9BCF2B0>\n",
      "Exception in Tkinter callback\n",
      "Traceback (most recent call last):\n",
      "  File \"C:\\ProgramData\\Anaconda3\\envs\\requests\\lib\\tkinter\\__init__.py\", line 1705, in __call__\n",
      "    return self.func(*args)\n",
      "  File \"C:\\ProgramData\\Anaconda3\\envs\\requests\\lib\\tkinter\\__init__.py\", line 749, in callit\n",
      "    func(*args)\n",
      "  File \"C:\\ProgramData\\Anaconda3\\envs\\requests\\lib\\site-packages\\matplotlib\\backends\\_backend_tk.py\", line 253, in idle_draw\n",
      "    self.draw()\n",
      "  File \"C:\\ProgramData\\Anaconda3\\envs\\requests\\lib\\site-packages\\matplotlib\\backends\\backend_tkagg.py\", line 9, in draw\n",
      "    super(FigureCanvasTkAgg, self).draw()\n",
      "  File \"C:\\ProgramData\\Anaconda3\\envs\\requests\\lib\\site-packages\\matplotlib\\backends\\backend_agg.py\", line 407, in draw\n",
      "    self.figure.draw(self.renderer)\n",
      "  File \"C:\\ProgramData\\Anaconda3\\envs\\requests\\lib\\site-packages\\matplotlib\\backend_bases.py\", line 1544, in _draw\n",
      "    def _draw(renderer): raise Done(renderer)\n",
      "matplotlib.backend_bases._get_renderer.<locals>.Done: <matplotlib.backends.backend_agg.RendererAgg object at 0x0000021AB9BCF2B0>\n"
     ]
    },
    {
     "data": {
      "image/png": "[encoded data removed]",
      "text/plain": [
       "<Figure size 360x360 with 1 Axes>"
      ]
     },
     "metadata": {
      "needs_background": "light"
     },
     "output_type": "display_data"
    }
   ],
   "source": [
    "#排名和热度之间的线性关系\n",
    "sns.lmplot(x='排名',y='热度（单位：万）',data=df)"
   ]
  },
  {
   "cell_type": "code",
   "execution_count": 48,
   "metadata": {},
   "outputs": [
    {
     "name": "stderr",
     "output_type": "stream",
     "text": [
      "Exception in Tkinter callback\n",
      "Traceback (most recent call last):\n",
      "  File \"C:\\ProgramData\\Anaconda3\\envs\\requests\\lib\\tkinter\\__init__.py\", line 1705, in __call__\n",
      "    return self.func(*args)\n",
      "  File \"C:\\ProgramData\\Anaconda3\\envs\\requests\\lib\\tkinter\\__init__.py\", line 749, in callit\n",
      "    func(*args)\n",
      "  File \"C:\\ProgramData\\Anaconda3\\envs\\requests\\lib\\site-packages\\matplotlib\\backends\\_backend_tk.py\", line 253, in idle_draw\n",
      "    self.draw()\n",
      "  File \"C:\\ProgramData\\Anaconda3\\envs\\requests\\lib\\site-packages\\matplotlib\\backends\\backend_tkagg.py\", line 9, in draw\n",
      "    super(FigureCanvasTkAgg, self).draw()\n",
      "  File \"C:\\ProgramData\\Anaconda3\\envs\\requests\\lib\\site-packages\\matplotlib\\backends\\backend_agg.py\", line 407, in draw\n",
      "    self.figure.draw(self.renderer)\n",
      "  File \"C:\\ProgramData\\Anaconda3\\envs\\requests\\lib\\site-packages\\matplotlib\\backend_bases.py\", line 1544, in _draw\n",
      "    def _draw(renderer): raise Done(renderer)\n",
      "matplotlib.backend_bases._get_renderer.<locals>.Done: <matplotlib.backends.backend_agg.RendererAgg object at 0x0000021ABB503A58>\n",
      "Exception in Tkinter callback\n",
      "Traceback (most recent call last):\n",
      "  File \"C:\\ProgramData\\Anaconda3\\envs\\requests\\lib\\tkinter\\__init__.py\", line 1705, in __call__\n",
      "    return self.func(*args)\n",
      "  File \"C:\\ProgramData\\Anaconda3\\envs\\requests\\lib\\site-packages\\matplotlib\\backends\\_backend_tk.py\", line 242, in resize\n",
      "    self.draw()\n",
      "  File \"C:\\ProgramData\\Anaconda3\\envs\\requests\\lib\\site-packages\\matplotlib\\backends\\backend_tkagg.py\", line 9, in draw\n",
      "    super(FigureCanvasTkAgg, self).draw()\n",
      "  File \"C:\\ProgramData\\Anaconda3\\envs\\requests\\lib\\site-packages\\matplotlib\\backends\\backend_agg.py\", line 407, in draw\n",
      "    self.figure.draw(self.renderer)\n",
      "  File \"C:\\ProgramData\\Anaconda3\\envs\\requests\\lib\\site-packages\\matplotlib\\backend_bases.py\", line 1544, in _draw\n",
      "    def _draw(renderer): raise Done(renderer)\n",
      "matplotlib.backend_bases._get_renderer.<locals>.Done: <matplotlib.backends.backend_agg.RendererAgg object at 0x0000021ABB503A58>\n",
      "Exception in Tkinter callback\n",
      "Traceback (most recent call last):\n",
      "  File \"C:\\ProgramData\\Anaconda3\\envs\\requests\\lib\\tkinter\\__init__.py\", line 1705, in __call__\n",
      "    return self.func(*args)\n",
      "  File \"C:\\ProgramData\\Anaconda3\\envs\\requests\\lib\\tkinter\\__init__.py\", line 749, in callit\n",
      "    func(*args)\n",
      "  File \"C:\\ProgramData\\Anaconda3\\envs\\requests\\lib\\site-packages\\matplotlib\\backends\\_backend_tk.py\", line 253, in idle_draw\n",
      "    self.draw()\n",
      "  File \"C:\\ProgramData\\Anaconda3\\envs\\requests\\lib\\site-packages\\matplotlib\\backends\\backend_tkagg.py\", line 9, in draw\n",
      "    super(FigureCanvasTkAgg, self).draw()\n",
      "  File \"C:\\ProgramData\\Anaconda3\\envs\\requests\\lib\\site-packages\\matplotlib\\backends\\backend_agg.py\", line 407, in draw\n",
      "    self.figure.draw(self.renderer)\n",
      "  File \"C:\\ProgramData\\Anaconda3\\envs\\requests\\lib\\site-packages\\matplotlib\\backend_bases.py\", line 1544, in _draw\n",
      "    def _draw(renderer): raise Done(renderer)\n",
      "matplotlib.backend_bases._get_renderer.<locals>.Done: <matplotlib.backends.backend_agg.RendererAgg object at 0x0000021ABB503A58>\n"
     ]
    },
    {
     "data": {
      "image/png": "[encoded data removed]",
      "text/plain": [
       "<Figure size 432x288 with 1 Axes>"
      ]
     },
     "metadata": {
      "needs_background": "light"
     },
     "output_type": "display_data"
    }
   ],
   "source": [
    "#箱形图\n",
    "current_palette = sns.color_palette(\"hls\",12)\n",
    "sns.boxplot(data=df,palette=current_palette) \n",
    "plt.show()"
   ]
  },
  {
   "cell_type": "code",
   "execution_count": 58,
   "metadata": {},
   "outputs": [
    {
     "name": "stderr",
     "output_type": "stream",
     "text": [
      "Exception in Tkinter callback\n",
      "Traceback (most recent call last):\n",
      "  File \"C:\\ProgramData\\Anaconda3\\envs\\requests\\lib\\tkinter\\__init__.py\", line 1705, in __call__\n",
      "    return self.func(*args)\n",
      "  File \"C:\\ProgramData\\Anaconda3\\envs\\requests\\lib\\tkinter\\__init__.py\", line 749, in callit\n",
      "    func(*args)\n",
      "  File \"C:\\ProgramData\\Anaconda3\\envs\\requests\\lib\\site-packages\\matplotlib\\backends\\_backend_tk.py\", line 253, in idle_draw\n",
      "    self.draw()\n",
      "  File \"C:\\ProgramData\\Anaconda3\\envs\\requests\\lib\\site-packages\\matplotlib\\backends\\backend_tkagg.py\", line 9, in draw\n",
      "    super(FigureCanvasTkAgg, self).draw()\n",
      "  File \"C:\\ProgramData\\Anaconda3\\envs\\requests\\lib\\site-packages\\matplotlib\\backends\\backend_agg.py\", line 407, in draw\n",
      "    self.figure.draw(self.renderer)\n",
      "  File \"C:\\ProgramData\\Anaconda3\\envs\\requests\\lib\\site-packages\\matplotlib\\backend_bases.py\", line 1544, in _draw\n",
      "    def _draw(renderer): raise Done(renderer)\n",
      "matplotlib.backend_bases._get_renderer.<locals>.Done: <matplotlib.backends.backend_agg.RendererAgg object at 0x0000021AB9AA8208>\n",
      "Exception in Tkinter callback\n",
      "Traceback (most recent call last):\n",
      "  File \"C:\\ProgramData\\Anaconda3\\envs\\requests\\lib\\tkinter\\__init__.py\", line 1705, in __call__\n",
      "    return self.func(*args)\n",
      "  File \"C:\\ProgramData\\Anaconda3\\envs\\requests\\lib\\site-packages\\matplotlib\\backends\\_backend_tk.py\", line 242, in resize\n",
      "    self.draw()\n",
      "  File \"C:\\ProgramData\\Anaconda3\\envs\\requests\\lib\\site-packages\\matplotlib\\backends\\backend_tkagg.py\", line 9, in draw\n",
      "    super(FigureCanvasTkAgg, self).draw()\n",
      "  File \"C:\\ProgramData\\Anaconda3\\envs\\requests\\lib\\site-packages\\matplotlib\\backends\\backend_agg.py\", line 407, in draw\n",
      "    self.figure.draw(self.renderer)\n",
      "  File \"C:\\ProgramData\\Anaconda3\\envs\\requests\\lib\\site-packages\\matplotlib\\backend_bases.py\", line 1544, in _draw\n",
      "    def _draw(renderer): raise Done(renderer)\n",
      "matplotlib.backend_bases._get_renderer.<locals>.Done: <matplotlib.backends.backend_agg.RendererAgg object at 0x0000021AB9AA8208>\n",
      "Exception in Tkinter callback\n",
      "Traceback (most recent call last):\n",
      "  File \"C:\\ProgramData\\Anaconda3\\envs\\requests\\lib\\tkinter\\__init__.py\", line 1705, in __call__\n",
      "    return self.func(*args)\n",
      "  File \"C:\\ProgramData\\Anaconda3\\envs\\requests\\lib\\tkinter\\__init__.py\", line 749, in callit\n",
      "    func(*args)\n",
      "  File \"C:\\ProgramData\\Anaconda3\\envs\\requests\\lib\\site-packages\\matplotlib\\backends\\_backend_tk.py\", line 253, in idle_draw\n",
      "    self.draw()\n",
      "  File \"C:\\ProgramData\\Anaconda3\\envs\\requests\\lib\\site-packages\\matplotlib\\backends\\backend_tkagg.py\", line 9, in draw\n",
      "    super(FigureCanvasTkAgg, self).draw()\n",
      "  File \"C:\\ProgramData\\Anaconda3\\envs\\requests\\lib\\site-packages\\matplotlib\\backends\\backend_agg.py\", line 407, in draw\n",
      "    self.figure.draw(self.renderer)\n",
      "  File \"C:\\ProgramData\\Anaconda3\\envs\\requests\\lib\\site-packages\\matplotlib\\backend_bases.py\", line 1544, in _draw\n",
      "    def _draw(renderer): raise Done(renderer)\n",
      "matplotlib.backend_bases._get_renderer.<locals>.Done: <matplotlib.backends.backend_agg.RendererAgg object at 0x0000021AB9AA8208>\n"
     ]
    },
    {
     "data": {
      "image/png": "[encoded data removed]",
      "text/plain": [
       "<Figure size 432x288 with 1 Axes>"
      ]
     },
     "metadata": {
      "needs_background": "light"
     },
     "output_type": "display_data"
    }
   ],
   "source": [
    "#单变量分析图\n",
    "from scipy import stats\n",
    "y = df['热度（单位：万）']\n",
    "sns.distplot(y,bins=50,kde=False,fit=stats.gamma)                                  \n",
    "plt.show()"
   ]
  },
  {
   "cell_type": "code",
   "execution_count": null,
   "metadata": {},
   "outputs": [],
   "source": []
  }
 ],
 "metadata": {
  "kernelspec": {
   "display_name": "Python 3",
   "language": "python",
   "name": "python3"
  },
  "language_info": {
   "codemirror_mode": {
    "name": "ipython",
    "version": 3
   },
   "file_extension": ".py",
   "mimetype": "text/x-python",
   "name": "python",
   "nbconvert_exporter": "python",
   "pygments_lexer": "ipython3",
   "version": "3.6.12"
  }
 },
 "nbformat": 4,
 "nbformat_minor": 4
}

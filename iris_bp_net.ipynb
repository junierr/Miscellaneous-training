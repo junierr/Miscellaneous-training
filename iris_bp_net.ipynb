{
 "cells": [
  {
   "cell_type": "code",
   "execution_count": 32,
   "metadata": {},
   "outputs": [],
   "source": [
    "from sklearn import datasets\n",
    "import pandas as pd\n",
    "import numpy as np\n",
    "import datetime"
   ]
  },
  {
   "cell_type": "code",
   "execution_count": 33,
   "metadata": {
    "collapsed": true
   },
   "outputs": [],
   "source": [
    "#初始化参数\n",
    "def init(n_x,n_h,n_y):\n",
    "    np.random.seed(2)#设置随机种子\n",
    "    #权重和偏置矩阵\n",
    "    w1=np.random.randn(n_h,n_x)*0.01\n",
    "    b1=np.zeros(shape=(n_h,1))\n",
    "    w2=np.random.randn(n_y,n_h)*0.01\n",
    "    b2=np.zeros(shape=(n_y,1))\n",
    "    \n",
    "    parameters={'w1':w1,'b1':b1,'w2':w2,'b2':b2}\n",
    "    return parameters"
   ]
  },
  {
   "cell_type": "code",
   "execution_count": 34,
   "metadata": {
    "collapsed": true
   },
   "outputs": [],
   "source": [
    "#前向传播\n",
    "def forward_propagation(X,parameters):\n",
    "    w1=parameters['w1']\n",
    "    b1=parameters['b1']\n",
    "    w2=parameters['w2']\n",
    "    b2=parameters['b2']\n",
    "    \n",
    "    #计算a2\n",
    "    z1=np.dot(w1,X)+b1\n",
    "    a1=np.tanh(z1)    #第一层激活函数\n",
    "    z2=np.dot(w2,a1)+b2\n",
    "    a2=1/(1+np.exp(-z2))#sigmoid 第二层激活函数\n",
    "    \n",
    "    cache={'z1':z1,'a1':a1,'z2':z2,'a2':a2}\n",
    "    \n",
    "    return a2,cache"
   ]
  },
  {
   "cell_type": "code",
   "execution_count": 35,
   "metadata": {},
   "outputs": [],
   "source": [
    "#计算代价函数\n",
    "def compute_cost(a2,Y,parameters):\n",
    "    m=Y.shape[1] #Y的列数为总样本数\n",
    "    \n",
    "    #交叉熵作为代价函数\n",
    "    logprobs=np.multiply(np.log(a2),Y)+np.multiply((1-Y),np.log(1-a2))\n",
    "    cost=-np.sum(logprobs)/m\n",
    "    return cost"
   ]
  },
  {
   "cell_type": "code",
   "execution_count": 36,
   "metadata": {
    "collapsed": true
   },
   "outputs": [],
   "source": [
    "#反向传播\n",
    "def backward_propagation(parameters,cache,X,Y):\n",
    "    m=Y.shape[1]\n",
    "    \n",
    "    w2=parameters['w2']\n",
    "    \n",
    "    a1=cache['a1']\n",
    "    a2=cache['a2']\n",
    "    \n",
    "    dz2=a2-Y\n",
    "    dw2=(1/m)*np.dot(dz2,a1.T)\n",
    "    db2=(1/m)*np.sum(dz2,axis=1,keepdims=True)\n",
    "    dz1=np.multiply(np.dot(w2.T,dz2),1-np.power(a1,2))\n",
    "    dw1=(1/m)*np.dot(dz1,X.T)\n",
    "    db1=(1/m)*np.sum(dz1,axis=1,keepdims=True)\n",
    "    \n",
    "    grads={'dw1':dw1,'db1':db1,'dw2':dw2,'db2':db2}\n",
    "    \n",
    "    return grads"
   ]
  },
  {
   "cell_type": "code",
   "execution_count": 37,
   "metadata": {
    "collapsed": true
   },
   "outputs": [],
   "source": [
    "#更新参数\n",
    "def update_parameters(parameters,grads,learning_rate=0.4):\n",
    "    w1=parameters['w1']\n",
    "    b1=parameters['b1']\n",
    "    w2=parameters['w2']\n",
    "    b2=parameters['b2']\n",
    "    \n",
    "    dw1=grads['dw1']\n",
    "    db1=grads['db1']\n",
    "    dw2=grads['dw2']\n",
    "    db2=grads['db2']\n",
    "    \n",
    "    w1=w1-dw1*learning_rate\n",
    "    b1=b1-db1*learning_rate\n",
    "    w2=w2-dw2*learning_rate\n",
    "    b2=b2-db2*learning_rate\n",
    "    \n",
    "    parameters={'w1':w1,'b1':b1,'w2':w2,'b2':b2}\n",
    "    \n",
    "    return parameters"
   ]
  },
  {
   "cell_type": "code",
   "execution_count": 38,
   "metadata": {},
   "outputs": [],
   "source": [
    "#建立神经网络\n",
    "def nn_model(X,Y,n_h,n_input,n_output,num_iterations=10000,print_cost=False):\n",
    "    np.random.seed(3)\n",
    "    n_x=n_input#输入层节点数\n",
    "    n_y=n_output#输出层节点数\n",
    "    \n",
    "    parameters=init(n_x,n_h,n_y)\n",
    "    \n",
    "    #梯度下降\n",
    "    for i in range(0,num_iterations):\n",
    "        a2,cache=forward_propagation(X,parameters)\n",
    "        cost=compute_cost(a2,Y,parameters)\n",
    "        grads=backward_propagation(parameters,cache,X,Y)\n",
    "        parameters=update_parameters(parameters,grads)\n",
    "        \n",
    "        if print_cost and i%1000==0:\n",
    "            print('迭代第%i次，代价函数为%f'%(i,cost))\n",
    "    return parameters"
   ]
  },
  {
   "cell_type": "code",
   "execution_count": 60,
   "metadata": {
    "collapsed": true
   },
   "outputs": [],
   "source": [
    "def predict(parameters,x_test,y_test):\n",
    "    w1=parameters['w1']\n",
    "    b1=parameters['b1']\n",
    "    w2=parameters['w2']\n",
    "    b2=parameters['b2']\n",
    "    \n",
    "    z1=np.dot(w1,x_test)+b1\n",
    "    a1=np.tanh(z1)\n",
    "    z2=np.dot(w2,a1)+b2\n",
    "    a2=1/(1+np.exp(-z2))\n",
    "    \n",
    "    n_rows=y_test.shape[0]\n",
    "    n_cols=y_test.shape[1]\n",
    "    \n",
    "    output=np.empty(shape=(n_rows,n_cols),dtype=int)\n",
    "    \n",
    "    for i in range(n_rows):\n",
    "        for j in range(n_cols):\n",
    "            if a2[i][j]>0.5:\n",
    "                output[i][j]=1\n",
    "            else:\n",
    "                output[i][j]=0\n",
    "    \n",
    "    print(\"预测结果：\")\n",
    "    print(output)\n",
    "    print(\"真实结果\")\n",
    "    print(y_test)\n",
    "    \n",
    "    count=0\n",
    "    for k in range(0,n_cols):\n",
    "        if(output[0][k]==y_test[0][k] and output[1][k]==y_test[1][k] and output[2][k]==y_test[2][k]):\n",
    "            count=count+1\n",
    "        else:\n",
    "            print(k)\n",
    "    acc=count / int(y_test.shape[1])*100\n",
    "    print(\"准确率：%.2f%%\"%acc)"
   ]
  },
  {
   "cell_type": "code",
   "execution_count": 61,
   "metadata": {},
   "outputs": [
    {
     "name": "stdout",
     "output_type": "stream",
     "text": [
      "迭代第0次，代价函数为2.079440\n",
      "迭代第1000次，代价函数为0.141475\n",
      "迭代第2000次，代价函数为0.077525\n",
      "迭代第3000次，代价函数为0.052129\n",
      "迭代第4000次，代价函数为0.284684\n",
      "迭代第5000次，代价函数为0.058633\n",
      "迭代第6000次，代价函数为0.061312\n",
      "迭代第7000次，代价函数为0.043087\n",
      "迭代第8000次，代价函数为0.003837\n",
      "迭代第9000次，代价函数为0.002737\n",
      "用时：1606ms\n",
      "预测结果：\n",
      "[[0 0 0 0 0 0 0 0 0 0 0 0 0 0 0 0 0 0 0 0 0 0 0 0 0]\n",
      " [1 0 1 0 1 0 1 0 1 1 0 0 0 1 0 0 0 0 0 0 0 0 0 0 0]\n",
      " [0 1 0 1 0 1 0 1 0 0 1 1 1 0 1 1 1 1 1 1 1 1 1 1 1]]\n",
      "真实结果\n",
      "[[0 0 0 0 0 0 0 0 0 0 0 0 0 0 0 0 0 0 0 0 0 0 0 0 0]\n",
      " [0 0 0 0 0 0 0 0 0 0 0 0 0 0 0 0 0 0 0 0 0 0 0 0 0]\n",
      " [1 1 1 1 1 1 1 1 1 1 1 1 1 1 1 1 1 1 1 1 1 1 1 1 1]]\n",
      "0\n",
      "2\n",
      "4\n",
      "6\n",
      "8\n",
      "9\n",
      "13\n",
      "准确率：72.00%\n"
     ]
    }
   ],
   "source": [
    "if __name__==\"__main__\":\n",
    "    data_set=datasets.load_iris()\n",
    "    xx=data_set.data\n",
    "    X=xx[0:125]\n",
    "    x_test=xx[125:]\n",
    "    X=X.T\n",
    "    x_test=x_test.T\n",
    "    yy=data_set.target\n",
    "    Y=[[0]*3]*len(yy)\n",
    "    Y=np.array(Y)\n",
    "    for i in range(len(yy)):\n",
    "        if yy[i]==0:\n",
    "            Y[i][0]=1\n",
    "            Y[i][1]=0\n",
    "            Y[i][2]=0\n",
    "        elif yy[i]==1:\n",
    "            Y[i][0]=0\n",
    "            Y[i][1]=1\n",
    "            Y[i][2]=0\n",
    "        else:\n",
    "            Y[i][0]=0\n",
    "            Y[i][1]=0\n",
    "            Y[i][2]=1\n",
    "    YY=Y[0:125]\n",
    "    y_test=Y[125:]\n",
    "    YY=YY.T\n",
    "    y_test=y_test.T\n",
    "    YY=YY.astype('uint8')\n",
    "    y_test=y_test.astype('uint8')\n",
    "    #start\n",
    "    start_time=datetime.datetime.now()\n",
    "    #输入层4个节点，隐藏层10个节点，输出层3个节点，迭代10000次\n",
    "    parameters=nn_model(X,YY,n_h=10,n_input=4,n_output=3,num_iterations=10000,print_cost=True)\n",
    "    end_time=datetime.datetime.now()\n",
    "    print(\"用时：\"+str((end_time-start_time).seconds)+str(round((end_time-start_time).microseconds/1000))+\"ms\")\n",
    "    \n",
    "    predict(parameters,x_test,y_test)"
   ]
  },
  {
   "cell_type": "code",
   "execution_count": null,
   "metadata": {
    "collapsed": true
   },
   "outputs": [],
   "source": []
  }
 ],
 "metadata": {
  "kernelspec": {
   "display_name": "Python 3",
   "language": "python",
   "name": "python3"
  },
  "language_info": {
   "codemirror_mode": {
    "name": "ipython",
    "version": 3
   },
   "file_extension": ".py",
   "mimetype": "text/x-python",
   "name": "python",
   "nbconvert_exporter": "python",
   "pygments_lexer": "ipython3",
   "version": "3.6.2"
  }
 },
 "nbformat": 4,
 "nbformat_minor": 2
}

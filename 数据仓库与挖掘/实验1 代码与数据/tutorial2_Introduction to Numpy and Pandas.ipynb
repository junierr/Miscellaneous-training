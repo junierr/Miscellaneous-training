{
 "cells": [
  {
   "cell_type": "markdown",
   "metadata": {},
   "source": [
    "# Module 2: Numpy 与 Pandas 介绍\n",
    "\n",
    "以下教程（http://www.cse.msu.edu/~ptan/dmbook/tutorials/tutorial2/tutorial2.ipynb）包含使用numpy和pandas库模块的示例。 要执行代码，请单击单元格，然后同时按SHIFT-ENTER键。"
   ]
  },
  {
   "cell_type": "markdown",
   "metadata": {},
   "source": [
    "## 2.1 Numpy介绍\n",
    "\n",
    "Numpy代表数值Python（numerical Python），是一个支持数字计算的Python库程序包。 numpy中的基本数据结构是一个称为ndarray的多维数组对象。 Numpy提供了一组可以有效地操作ndarray的元素的函数。\n",
    "\n",
    "### 2.1.1 创建ndarray\n",
    "\n",
    "ndarray可以由列表（list）或者元组（tuple）对象创建得到。"
   ]
  },
  {
   "cell_type": "code",
   "execution_count": 1,
   "metadata": {},
   "outputs": [
    {
     "name": "stdout",
     "output_type": "stream",
     "text": [
      "[1. 2. 3. 4. 5.]\n",
      "#Dimensions = 1\n",
      "Dimension = (5,)\n",
      "Size = 5\n",
      "Array type = float64\n",
      "[[1 2]\n",
      " [3 4]\n",
      " [5 6]\n",
      " [7 8]]\n",
      "#Dimensions = 2\n",
      "Dimension = (4, 2)\n",
      "Size = 8\n",
      "Array type = int32\n",
      "[['1' 'a' '3.0']\n",
      " ['2' 'b' '3.5']]\n",
      "#Dimensions = 2\n",
      "Dimension = (2, 3)\n",
      "Size = 6\n"
     ]
    }
   ],
   "source": [
    "import numpy as np\n",
    "\n",
    "oneDim = np.array([1.0,2,3,4,5])   # a 1-dimensional array (vector)\n",
    "print(oneDim)\n",
    "print(\"#Dimensions =\", oneDim.ndim)\n",
    "print(\"Dimension =\", oneDim.shape)\n",
    "print(\"Size =\", oneDim.size)\n",
    "print(\"Array type =\", oneDim.dtype)\n",
    "\n",
    "twoDim = np.array([[1,2],[3,4],[5,6],[7,8]])  # a two-dimensional array (matrix)\n",
    "print(twoDim)\n",
    "print(\"#Dimensions =\", twoDim.ndim)\n",
    "print(\"Dimension =\", twoDim.shape)\n",
    "print(\"Size =\", twoDim.size)\n",
    "print(\"Array type =\", twoDim.dtype)\n",
    "\n",
    "arrFromTuple = np.array([(1,'a',3.0),(2,'b',3.5)])  # create ndarray from tuple\n",
    "print(arrFromTuple)\n",
    "print(\"#Dimensions =\", arrFromTuple.ndim)\n",
    "print(\"Dimension =\", arrFromTuple.shape)\n",
    "print(\"Size =\", arrFromTuple.size)"
   ]
  },
  {
   "cell_type": "markdown",
   "metadata": {},
   "source": [
    "numpy中有几个内置函数可用于创建ndarrays"
   ]
  },
  {
   "cell_type": "code",
   "execution_count": 2,
   "metadata": {},
   "outputs": [
    {
     "name": "stdout",
     "output_type": "stream",
     "text": [
      "[0.32092826 0.07272958 0.19190226 0.24745792 0.1214733 ]\n",
      "[-0.30488133 -0.81475333 -1.23982972  1.68672277  0.18848723]\n",
      "[-10  -8  -6  -4  -2   0   2   4   6   8]\n",
      "[[ 0  1  2  3]\n",
      " [ 4  5  6  7]\n",
      " [ 8  9 10 11]]\n",
      "[0.         0.11111111 0.22222222 0.33333333 0.44444444 0.55555556\n",
      " 0.66666667 0.77777778 0.88888889 1.        ]\n",
      "[1.e-03 1.e-02 1.e-01 1.e+00 1.e+01 1.e+02 1.e+03]\n"
     ]
    }
   ],
   "source": [
    "print(np.random.rand(5))      # random numbers from a uniform distribution between [0,1]\n",
    "print(np.random.randn(5))     # random numbers from a normal distribution\n",
    "print(np.arange(-10,10,2))    # similar to range, but returns ndarray instead of list\n",
    "print(np.arange(12).reshape(3,4))  # reshape to a matrix\n",
    "print(np.linspace(0,1,10))    # split interval [0,1] into 10 equally separated values\n",
    "print(np.logspace(-3,3,7))    # create ndarray with values from 10^-3 to 10^3"
   ]
  },
  {
   "cell_type": "code",
   "execution_count": 3,
   "metadata": {},
   "outputs": [
    {
     "name": "stdout",
     "output_type": "stream",
     "text": [
      "[[0. 0. 0.]\n",
      " [0. 0. 0.]]\n",
      "[[1. 1.]\n",
      " [1. 1.]\n",
      " [1. 1.]]\n",
      "[[1. 0. 0.]\n",
      " [0. 1. 0.]\n",
      " [0. 0. 1.]]\n"
     ]
    }
   ],
   "source": [
    "print(np.zeros((2,3)))        # a matrix of zeros\n",
    "print(np.ones((3,2)))         # a matrix of ones\n",
    "print(np.eye(3))              # a 3 x 3 identity matrix"
   ]
  },
  {
   "cell_type": "markdown",
   "metadata": {},
   "source": [
    "## 2.1.2 逐元素操作 Element-wise Operations\n",
    "\n",
    "可以在ndarray的每个元素上应用标准运算符，例如加法和乘法。"
   ]
  },
  {
   "cell_type": "code",
   "execution_count": 4,
   "metadata": {},
   "outputs": [
    {
     "name": "stdout",
     "output_type": "stream",
     "text": [
      "[2 3 4 5 6]\n",
      "[0 1 2 3 4]\n",
      "[ 2  4  6  8 10]\n",
      "[0 1 1 2 2]\n",
      "[ 1  4  9 16 25]\n",
      "[1 0 1 0 1]\n",
      "[1.         0.5        0.33333333 0.25       0.2       ]\n"
     ]
    }
   ],
   "source": [
    "x = np.array([1,2,3,4,5])\n",
    "\n",
    "print(x + 1)      # addition\n",
    "print(x - 1)      # subtraction\n",
    "print(x * 2)      # multiplication\n",
    "print(x // 2)     # integer division\n",
    "print(x ** 2)     # square\n",
    "print(x % 2)      # modulo  \n",
    "print(1 / x)      # division"
   ]
  },
  {
   "cell_type": "code",
   "execution_count": 5,
   "metadata": {},
   "outputs": [
    {
     "name": "stdout",
     "output_type": "stream",
     "text": [
      "[ 3  6  9 12 15]\n",
      "[1 2 3 4 5]\n",
      "[ 2  8 18 32 50]\n",
      "[2. 2. 2. 2. 2.]\n",
      "[2 2 2 2 2]\n",
      "[     2     16    216   4096 100000]\n"
     ]
    }
   ],
   "source": [
    "x = np.array([2,4,6,8,10])\n",
    "y = np.array([1,2,3,4,5])\n",
    "\n",
    "print(x + y)\n",
    "print(x - y)\n",
    "print(x * y)\n",
    "print(x / y)\n",
    "print(x // y)\n",
    "print(x ** y)"
   ]
  },
  {
   "cell_type": "markdown",
   "metadata": {},
   "source": [
    "## 2.1.3 索引和切片操作Indexing and Slicing\n",
    "\n",
    "选择ndarray中特定元素的操作有多种。"
   ]
  },
  {
   "cell_type": "code",
   "execution_count": 6,
   "metadata": {},
   "outputs": [
    {
     "name": "stdout",
     "output_type": "stream",
     "text": [
      "[-5 -4 -3 -2 -1  0  1  2  3  4]\n",
      "[-2 -1]\n",
      "[1000 1000]\n",
      "[  -5   -4   -3 1000 1000    0    1    2    3    4]\n",
      "[1000 1000]\n",
      "[500 500]\n",
      "[  -5   -4   -3 1000 1000    0    1    2    3    4]\n"
     ]
    }
   ],
   "source": [
    "x = np.arange(-5,5)\n",
    "print(x)\n",
    "\n",
    "y = x[3:5]     # y is a slice, i.e., pointer to a subarray in x\n",
    "print(y)\n",
    "y[:] = 1000    # modifying the value of y will change x\n",
    "print(y)\n",
    "print(x)\n",
    "\n",
    "z = x[3:5].copy()   # makes a copy of the subarray\n",
    "print(z)\n",
    "z[:] = 500          # modifying the value of z will not affect x\n",
    "print(z)\n",
    "print(x)"
   ]
  },
  {
   "cell_type": "code",
   "execution_count": 7,
   "metadata": {},
   "outputs": [
    {
     "name": "stdout",
     "output_type": "stream",
     "text": [
      "[[1, 2, 3, 4], [5, 6, 7, 8], [9, 10, 11, 12]]\n",
      "[9, 10, 11, 12]\n",
      "[9, 10, 11, 12]\n",
      "[[ 1  2  3  4]\n",
      " [ 5  6  7  8]\n",
      " [ 9 10 11 12]]\n",
      "[ 9 10 11 12]\n",
      "[ 9 10 11 12]\n",
      "[ 9 10 11 12]\n",
      "[ 3  7 11]\n",
      "[[3 4]\n",
      " [7 8]]\n"
     ]
    }
   ],
   "source": [
    "my2dlist = [[1,2,3,4],[5,6,7,8],[9,10,11,12]]   # a 2-dim list\n",
    "print(my2dlist)\n",
    "print(my2dlist[2])        # access the third sublist\n",
    "print(my2dlist[:][2])     # can't access third element of each sublist\n",
    "# print(my2dlist[:,2])    # this will cause syntax error\n",
    "\n",
    "my2darr = np.array(my2dlist)\n",
    "print(my2darr)\n",
    "print(my2darr[2][:])      # access the third row\n",
    "print(my2darr[2,:])       # access the third row\n",
    "print(my2darr[:][2])      # access the third row (similar to 2d list)\n",
    "print(my2darr[:,2])       # access the third column\n",
    "print(my2darr[:2,2:])     # access the first two rows & last two columns"
   ]
  },
  {
   "cell_type": "markdown",
   "metadata": {},
   "source": [
    "ndarray也支持布尔索引"
   ]
  },
  {
   "cell_type": "code",
   "execution_count": 8,
   "metadata": {},
   "outputs": [
    {
     "name": "stdout",
     "output_type": "stream",
     "text": [
      "[[ 1  2  3  4]\n",
      " [ 5  6  7  8]\n",
      " [ 9 10 11 12]]\n",
      "[ 3  6  9 12] <class 'numpy.ndarray'>\n",
      "[[ 9 12]]\n"
     ]
    }
   ],
   "source": [
    "my2darr = np.arange(1,13,1).reshape(3,4)\n",
    "print(my2darr)\n",
    "\n",
    "divBy3 = my2darr[my2darr % 3 == 0]\n",
    "print(divBy3, type(divBy3))\n",
    "\n",
    "divBy3LastRow = my2darr[2:, my2darr[2,:] % 3 == 0]\n",
    "print(divBy3LastRow)"
   ]
  },
  {
   "cell_type": "markdown",
   "metadata": {},
   "source": [
    "更多索引的例子"
   ]
  },
  {
   "cell_type": "code",
   "execution_count": 9,
   "metadata": {},
   "outputs": [
    {
     "name": "stdout",
     "output_type": "stream",
     "text": [
      "[[ 1  2  3]\n",
      " [ 4  5  6]\n",
      " [ 7  8  9]\n",
      " [10 11 12]]\n",
      "[[ 7  8  9]\n",
      " [ 4  5  6]\n",
      " [ 1  2  3]\n",
      " [10 11 12]]\n",
      "[ 1  3  4  8 12]\n"
     ]
    }
   ],
   "source": [
    "my2darr = np.arange(1,13,1).reshape(4,3)\n",
    "print(my2darr)\n",
    "\n",
    "indices = [2,1,0,3]    # selected row indices\n",
    "print(my2darr[indices,:])\n",
    "\n",
    "rowIndex = [0,0,1,2,3]     # row index into my2darr\n",
    "columnIndex = [0,2,0,1,2]  # column index into my2darr\n",
    "print(my2darr[rowIndex,columnIndex])"
   ]
  },
  {
   "cell_type": "markdown",
   "metadata": {},
   "source": [
    "## 2.1.4 Numpy中的算术函数和统计函数\n",
    "\n",
    "numpy中有很多内置数学函数，用于对ndarray中的元素进行操作"
   ]
  },
  {
   "cell_type": "code",
   "execution_count": 10,
   "metadata": {},
   "outputs": [
    {
     "name": "stdout",
     "output_type": "stream",
     "text": [
      "[-1.4  0.4 -3.2  2.5  3.4]\n",
      "[1.4 0.4 3.2 2.5 3.4]\n",
      "[1.18321596 0.63245553 1.78885438 1.58113883 1.84390889]\n",
      "[-1.  1. -1.  1.  1.]\n",
      "[ 0.24659696  1.4918247   0.0407622  12.18249396 29.96410005]\n",
      "[-3.2 -1.4  0.4  2.5  3.4]\n"
     ]
    }
   ],
   "source": [
    "y = np.array([-1.4, 0.4, -3.2, 2.5, 3.4])    # generate a random vector\n",
    "print(y)\n",
    "\n",
    "print(np.abs(y))          # convert to absolute values\n",
    "print(np.sqrt(abs(y)))    # apply square root to each element\n",
    "print(np.sign(y))         # get the sign of each element\n",
    "print(np.exp(y))          # apply exponentiation\n",
    "print(np.sort(y))         # sort array"
   ]
  },
  {
   "cell_type": "code",
   "execution_count": 11,
   "metadata": {},
   "outputs": [
    {
     "name": "stdout",
     "output_type": "stream",
     "text": [
      "[-2 -1  0  1  2]\n",
      "[ 0.25223072  0.06221623 -0.63361984  1.43703698 -0.09585704]\n",
      "[-1.74776928 -0.93778377 -0.63361984  2.43703698  1.90414296]\n",
      "[-2.25223072 -1.06221623  0.63361984 -0.43703698  2.09585704]\n",
      "[-0.50446145 -0.06221623 -0.          1.43703698 -0.19171409]\n",
      "[ -7.92924812 -16.07297739  -0.           0.69587632 -20.86440283]\n",
      "[0.25223072 0.06221623 0.         1.43703698 2.        ]\n"
     ]
    }
   ],
   "source": [
    "x = np.arange(-2,3)\n",
    "y = np.random.randn(5)\n",
    "print(x)\n",
    "print(y)\n",
    "\n",
    "print(np.add(x,y))           # element-wise addition       x + y\n",
    "print(np.subtract(x,y))      # element-wise subtraction    x - y\n",
    "print(np.multiply(x,y))      # element-wise multiplication x * y\n",
    "print(np.divide(x,y))        # element-wise division       x / y\n",
    "print(np.maximum(x,y))       # element-wise maximum        max(x,y)"
   ]
  },
  {
   "cell_type": "code",
   "execution_count": 12,
   "metadata": {},
   "outputs": [
    {
     "name": "stdout",
     "output_type": "stream",
     "text": [
      "[-3.2 -1.4  0.4  2.5  3.4]\n",
      "Min = -3.2\n",
      "Max = 3.4\n",
      "Average = 0.34000000000000014\n",
      "Std deviation = 2.432776191925595\n",
      "Sum = 1.7000000000000006\n"
     ]
    }
   ],
   "source": [
    "y = np.array([-3.2, -1.4, 0.4, 2.5, 3.4])    # generate a random vector\n",
    "print(y)\n",
    "\n",
    "print(\"Min =\", np.min(y))             # min \n",
    "print(\"Max =\", np.max(y))             # max \n",
    "print(\"Average =\", np.mean(y))        # mean/average\n",
    "print(\"Std deviation =\", np.std(y))   # standard deviation\n",
    "print(\"Sum =\", np.sum(y))             # sum "
   ]
  },
  {
   "cell_type": "markdown",
   "metadata": {},
   "source": [
    "## 2.1.5 Numpy中的线性代数功能\n",
    "\n",
    "Numpy 提供了很多支持线性代数操作的函数"
   ]
  },
  {
   "cell_type": "code",
   "execution_count": 13,
   "metadata": {},
   "outputs": [
    {
     "name": "stdout",
     "output_type": "stream",
     "text": [
      "[[-1.12513067 -1.12224927  0.37204664]\n",
      " [ 0.2606108   0.83163189 -2.46729374]]\n",
      "[[-1.12513067  0.2606108 ]\n",
      " [-1.12224927  0.83163189]\n",
      " [ 0.37204664 -2.46729374]]\n",
      "[-0.97572857 -0.17733126 -1.20672697]\n",
      "[0.8478733  2.57559016]\n",
      "[[ 2.66378114 -2.14446782]\n",
      " [-2.14446782  6.84706797]]\n",
      "[[ 1.33383702  1.47940933 -1.06160448]\n",
      " [ 1.47940933  1.95105502 -2.46940922]\n",
      " [-1.06160448 -2.46940922  6.22595708]]\n"
     ]
    }
   ],
   "source": [
    "X = np.random.randn(2,3)    # create a 2 x 3 random matrix\n",
    "print(X)\n",
    "print(X.T)             # matrix transpose operation X^T\n",
    "\n",
    "y = np.random.randn(3) # random vector \n",
    "print(y)\n",
    "print(X.dot(y))        # matrix-vector multiplication  X * y\n",
    "print(X.dot(X.T))      # matrix-matrix multiplication  X * X^T\n",
    "print(X.T.dot(X))      # matrix-matrix multiplication  X^T * X"
   ]
  },
  {
   "cell_type": "code",
   "execution_count": 14,
   "metadata": {},
   "outputs": [
    {
     "name": "stdout",
     "output_type": "stream",
     "text": [
      "[[-0.3728571   0.71559769 -0.90154692]\n",
      " [ 0.59263385 -0.14584511  0.68300295]\n",
      " [ 0.6699267   1.8317983  -0.74595055]\n",
      " [ 0.01057433  0.78888678 -0.16534243]\n",
      " [ 0.98682982 -0.91253913 -0.60442339]]\n",
      "[[0.54489468 0.03877106 0.11670612]\n",
      " [0.03877106 0.24893566 0.19501078]\n",
      " [0.11670612 0.19501078 0.61535421]]\n",
      "16.612339474304875\n",
      "[1.30332961 2.09347767 6.08847046]\n",
      "[[-0.48283303 -0.87518179 -0.03048113]\n",
      " [-0.33977396  0.2193048  -0.91458136]\n",
      " [-0.80710961  0.43123339  0.40325158]]\n"
     ]
    }
   ],
   "source": [
    "X = np.random.randn(5,3)\n",
    "print(X)\n",
    "\n",
    "C = X.T.dot(X)               # C = X^T * X is a square matrix\n",
    "\n",
    "invC = np.linalg.inv(C)      # inverse of a square matrix\n",
    "print(invC)\n",
    "detC = np.linalg.det(C)      # determinant of a square matrix\n",
    "print(detC)\n",
    "S, U = np.linalg.eig(C)      # eigenvalue S and eigenvector U of a square matrix\n",
    "print(S)\n",
    "print(U)"
   ]
  },
  {
   "cell_type": "markdown",
   "metadata": {},
   "source": [
    "## 2.2 Pandas简介\n",
    "\n",
    "Pandas提供了两种用于存储和操作数据的便捷数据结构-Series和DataFrame。 Series类似于一维数组，而DataFrame更类似于表示矩阵或电子表格表格。\n",
    "\n",
    "### 2.2.1 Series\n",
    "\n",
    "Series对象由一维值数组组成，可以使用索引数组来引用其元素。 可以从列表、numpy数组或Python字典创建Series对象。 您可以在Series对象上应用大多数numpy函数。"
   ]
  },
  {
   "cell_type": "code",
   "execution_count": 15,
   "metadata": {},
   "outputs": [
    {
     "name": "stdout",
     "output_type": "stream",
     "text": [
      "0    3.1\n",
      "1    2.4\n",
      "2   -1.7\n",
      "3    0.2\n",
      "4   -2.9\n",
      "5    4.5\n",
      "dtype: float64\n",
      "Values= [ 3.1  2.4 -1.7  0.2 -2.9  4.5]\n",
      "Index= RangeIndex(start=0, stop=6, step=1)\n"
     ]
    }
   ],
   "source": [
    "from pandas import Series\n",
    "\n",
    "s = Series([3.1, 2.4, -1.7, 0.2, -2.9, 4.5])   # creating a series from a list\n",
    "print(s)\n",
    "print('Values=', s.values)     # display values of the Series\n",
    "print('Index=', s.index)       # display indices of the Series"
   ]
  },
  {
   "cell_type": "code",
   "execution_count": 16,
   "metadata": {},
   "outputs": [
    {
     "name": "stdout",
     "output_type": "stream",
     "text": [
      "0   -0.592008\n",
      "1    1.245115\n",
      "2   -0.432548\n",
      "3    0.482104\n",
      "4    1.617113\n",
      "5    0.006682\n",
      "dtype: float64\n",
      "Values= [-0.59200785  1.24511481 -0.43254759  0.48210448  1.61711263  0.00668192]\n",
      "Index= RangeIndex(start=0, stop=6, step=1)\n"
     ]
    }
   ],
   "source": [
    "import numpy as np\n",
    "\n",
    "s2 = Series(np.random.randn(6))  # creating a series from a numpy ndarray\n",
    "print(s2)\n",
    "print('Values=', s2.values)   # display values of the Series\n",
    "print('Index=', s2.index)     # display indices of the Series"
   ]
  },
  {
   "cell_type": "code",
   "execution_count": 17,
   "metadata": {},
   "outputs": [
    {
     "name": "stdout",
     "output_type": "stream",
     "text": [
      "Jan 1    1.2\n",
      "Jan 2    2.5\n",
      "Jan 3   -2.2\n",
      "Jan 4    3.1\n",
      "Jan 5   -0.8\n",
      "Jan 6   -3.2\n",
      "dtype: float64\n",
      "Values= [ 1.2  2.5 -2.2  3.1 -0.8 -3.2]\n",
      "Index= Index(['Jan 1', 'Jan 2', 'Jan 3', 'Jan 4', 'Jan 5', 'Jan 6'], dtype='object')\n"
     ]
    }
   ],
   "source": [
    "s3 = Series([1.2,2.5,-2.2,3.1,-0.8,-3.2], \n",
    "            index = ['Jan 1','Jan 2','Jan 3','Jan 4','Jan 5','Jan 6',])\n",
    "print(s3)\n",
    "print('Values=', s3.values)   # display values of the Series\n",
    "print('Index=', s3.index)     # display indices of the Series"
   ]
  },
  {
   "cell_type": "code",
   "execution_count": 18,
   "metadata": {},
   "outputs": [
    {
     "name": "stdout",
     "output_type": "stream",
     "text": [
      "MI       Lansing\n",
      "CA    Sacramento\n",
      "TX        Austin\n",
      "MN       St Paul\n",
      "dtype: object\n",
      "Values= ['Lansing' 'Sacramento' 'Austin' 'St Paul']\n",
      "Index= Index(['MI', 'CA', 'TX', 'MN'], dtype='object')\n"
     ]
    }
   ],
   "source": [
    "capitals = {'MI': 'Lansing', 'CA': 'Sacramento', 'TX': 'Austin', 'MN': 'St Paul'}\n",
    "\n",
    "s4 = Series(capitals)   # creating a series from dictionary object\n",
    "print(s4)\n",
    "print('Values=', s4.values)   # display values of the Series\n",
    "print('Index=', s4.index)     # display indices of the Series"
   ]
  },
  {
   "cell_type": "code",
   "execution_count": 19,
   "metadata": {},
   "outputs": [
    {
     "name": "stdout",
     "output_type": "stream",
     "text": [
      "Jan 1    1.2\n",
      "Jan 2    2.5\n",
      "Jan 3   -2.2\n",
      "Jan 4    3.1\n",
      "Jan 5   -0.8\n",
      "Jan 6   -3.2\n",
      "dtype: float64\n",
      "\n",
      "s3[2]= -2.2\n",
      "s3['Jan 3']= -2.2\n",
      "\n",
      "s3[1:3]=\n",
      "Jan 2    2.5\n",
      "Jan 3   -2.2\n",
      "dtype: float64\n",
      "s3.iloc([1:3])=\n",
      "Jan 2    2.5\n",
      "Jan 3   -2.2\n",
      "dtype: float64\n"
     ]
    }
   ],
   "source": [
    "s3 = Series([1.2,2.5,-2.2,3.1,-0.8,-3.2], \n",
    "            index = ['Jan 1','Jan 2','Jan 3','Jan 4','Jan 5','Jan 6',])\n",
    "print(s3)\n",
    "\n",
    "# Accessing elements of a Series\n",
    "\n",
    "print('\\ns3[2]=', s3[2])        # display third element of the Series\n",
    "print('s3[\\'Jan 3\\']=', s3['Jan 3'])   # indexing element of a Series \n",
    "\n",
    "print('\\ns3[1:3]=')             # display a slice of the Series\n",
    "print(s3[1:3])\n",
    "print('s3.iloc([1:3])=')      # display a slice of the Series\n",
    "print(s3.iloc[1:3])"
   ]
  },
  {
   "cell_type": "code",
   "execution_count": 20,
   "metadata": {},
   "outputs": [
    {
     "name": "stdout",
     "output_type": "stream",
     "text": [
      "shape = (6,)\n",
      "size = 6\n"
     ]
    }
   ],
   "source": [
    "print('shape =', s3.shape)  # get the dimension of the Series\n",
    "print('size =', s3.size)    # get the # of elements of the Series"
   ]
  },
  {
   "cell_type": "code",
   "execution_count": 21,
   "metadata": {},
   "outputs": [
    {
     "name": "stdout",
     "output_type": "stream",
     "text": [
      "Jan 1    1.2\n",
      "Jan 2    2.5\n",
      "Jan 4    3.1\n",
      "dtype: float64\n"
     ]
    }
   ],
   "source": [
    "print(s3[s3 > 0])   # applying filter to select elements of the Series"
   ]
  },
  {
   "cell_type": "code",
   "execution_count": 22,
   "metadata": {},
   "outputs": [
    {
     "name": "stdout",
     "output_type": "stream",
     "text": [
      "Jan 1    5.2\n",
      "Jan 2    6.5\n",
      "Jan 3    1.8\n",
      "Jan 4    7.1\n",
      "Jan 5    3.2\n",
      "Jan 6    0.8\n",
      "dtype: float64\n",
      "Jan 1    0.300\n",
      "Jan 2    0.625\n",
      "Jan 3   -0.550\n",
      "Jan 4    0.775\n",
      "Jan 5   -0.200\n",
      "Jan 6   -0.800\n",
      "dtype: float64\n"
     ]
    }
   ],
   "source": [
    "print(s3 + 4)       # applying scalar operation on a numeric Series\n",
    "print(s3 / 4)    "
   ]
  },
  {
   "cell_type": "code",
   "execution_count": 23,
   "metadata": {},
   "outputs": [
    {
     "name": "stdout",
     "output_type": "stream",
     "text": [
      "Jan 1    1.648659\n",
      "Jan 2    1.871802\n",
      "Jan 3    0.587787\n",
      "Jan 4    1.960095\n",
      "Jan 5    1.163151\n",
      "Jan 6   -0.223144\n",
      "dtype: float64\n"
     ]
    }
   ],
   "source": [
    "print(np.log(s3 + 4))    # applying numpy math functions to a numeric Series"
   ]
  },
  {
   "cell_type": "markdown",
   "metadata": {},
   "source": [
    "### 2.2.2 DataFrame\n",
    "\n",
    "DataFrame对象是类似于表格的电子表格数据结构，包含多列，每个列可以具有不同的类型（数字，字符串，布尔值等）。 与Series不同，DataFrame具有不同的行和列索引。 创建DataFrame对象的方法有很多（例如，从字典，元组列表甚至是numpy的ndarrays）。"
   ]
  },
  {
   "cell_type": "code",
   "execution_count": 24,
   "metadata": {},
   "outputs": [
    {
     "data": {
      "text/html": [
       "<div>\n",
       "<style scoped>\n",
       "    .dataframe tbody tr th:only-of-type {\n",
       "        vertical-align: middle;\n",
       "    }\n",
       "\n",
       "    .dataframe tbody tr th {\n",
       "        vertical-align: top;\n",
       "    }\n",
       "\n",
       "    .dataframe thead th {\n",
       "        text-align: right;\n",
       "    }\n",
       "</style>\n",
       "<table border=\"1\" class=\"dataframe\">\n",
       "  <thead>\n",
       "    <tr style=\"text-align: right;\">\n",
       "      <th></th>\n",
       "      <th>make</th>\n",
       "      <th>model</th>\n",
       "      <th>MSRP</th>\n",
       "    </tr>\n",
       "  </thead>\n",
       "  <tbody>\n",
       "    <tr>\n",
       "      <th>0</th>\n",
       "      <td>Ford</td>\n",
       "      <td>Taurus</td>\n",
       "      <td>27595</td>\n",
       "    </tr>\n",
       "    <tr>\n",
       "      <th>1</th>\n",
       "      <td>Honda</td>\n",
       "      <td>Accord</td>\n",
       "      <td>23570</td>\n",
       "    </tr>\n",
       "    <tr>\n",
       "      <th>2</th>\n",
       "      <td>Toyota</td>\n",
       "      <td>Camry</td>\n",
       "      <td>23495</td>\n",
       "    </tr>\n",
       "    <tr>\n",
       "      <th>3</th>\n",
       "      <td>Tesla</td>\n",
       "      <td>Model S</td>\n",
       "      <td>68000</td>\n",
       "    </tr>\n",
       "  </tbody>\n",
       "</table>\n",
       "</div>"
      ],
      "text/plain": [
       "     make    model   MSRP\n",
       "0    Ford   Taurus  27595\n",
       "1   Honda   Accord  23570\n",
       "2  Toyota    Camry  23495\n",
       "3   Tesla  Model S  68000"
      ]
     },
     "execution_count": 24,
     "metadata": {},
     "output_type": "execute_result"
    }
   ],
   "source": [
    "from pandas import DataFrame\n",
    "\n",
    "cars = {'make': ['Ford', 'Honda', 'Toyota', 'Tesla'],\n",
    "       'model': ['Taurus', 'Accord', 'Camry', 'Model S'],\n",
    "       'MSRP': [27595, 23570, 23495, 68000]}          \n",
    "carData = DataFrame(cars)   # creating DataFrame from dictionary\n",
    "carData                     # display the table"
   ]
  },
  {
   "cell_type": "code",
   "execution_count": 25,
   "metadata": {},
   "outputs": [
    {
     "name": "stdout",
     "output_type": "stream",
     "text": [
      "RangeIndex(start=0, stop=4, step=1)\n",
      "Index(['make', 'model', 'MSRP'], dtype='object')\n"
     ]
    }
   ],
   "source": [
    "print(carData.index)       # print the row indices\n",
    "print(carData.columns)     # print the column indices"
   ]
  },
  {
   "cell_type": "code",
   "execution_count": 26,
   "metadata": {},
   "outputs": [
    {
     "data": {
      "text/html": [
       "<div>\n",
       "<style scoped>\n",
       "    .dataframe tbody tr th:only-of-type {\n",
       "        vertical-align: middle;\n",
       "    }\n",
       "\n",
       "    .dataframe tbody tr th {\n",
       "        vertical-align: top;\n",
       "    }\n",
       "\n",
       "    .dataframe thead th {\n",
       "        text-align: right;\n",
       "    }\n",
       "</style>\n",
       "<table border=\"1\" class=\"dataframe\">\n",
       "  <thead>\n",
       "    <tr style=\"text-align: right;\">\n",
       "      <th></th>\n",
       "      <th>make</th>\n",
       "      <th>model</th>\n",
       "      <th>MSRP</th>\n",
       "      <th>year</th>\n",
       "      <th>dealership</th>\n",
       "    </tr>\n",
       "  </thead>\n",
       "  <tbody>\n",
       "    <tr>\n",
       "      <th>1</th>\n",
       "      <td>Ford</td>\n",
       "      <td>Taurus</td>\n",
       "      <td>27595</td>\n",
       "      <td>2018</td>\n",
       "      <td>Courtesy Ford</td>\n",
       "    </tr>\n",
       "    <tr>\n",
       "      <th>2</th>\n",
       "      <td>Honda</td>\n",
       "      <td>Accord</td>\n",
       "      <td>23570</td>\n",
       "      <td>2018</td>\n",
       "      <td>Capital Honda</td>\n",
       "    </tr>\n",
       "    <tr>\n",
       "      <th>3</th>\n",
       "      <td>Toyota</td>\n",
       "      <td>Camry</td>\n",
       "      <td>23495</td>\n",
       "      <td>2018</td>\n",
       "      <td>Spartan Toyota</td>\n",
       "    </tr>\n",
       "    <tr>\n",
       "      <th>4</th>\n",
       "      <td>Tesla</td>\n",
       "      <td>Model S</td>\n",
       "      <td>68000</td>\n",
       "      <td>2018</td>\n",
       "      <td>N/A</td>\n",
       "    </tr>\n",
       "  </tbody>\n",
       "</table>\n",
       "</div>"
      ],
      "text/plain": [
       "     make    model   MSRP  year      dealership\n",
       "1    Ford   Taurus  27595  2018   Courtesy Ford\n",
       "2   Honda   Accord  23570  2018   Capital Honda\n",
       "3  Toyota    Camry  23495  2018  Spartan Toyota\n",
       "4   Tesla  Model S  68000  2018             N/A"
      ]
     },
     "execution_count": 26,
     "metadata": {},
     "output_type": "execute_result"
    }
   ],
   "source": [
    "carData2 = DataFrame(cars, index = [1,2,3,4])  # change the row index\n",
    "carData2['year'] = 2018    # add column with same value\n",
    "carData2['dealership'] = ['Courtesy Ford','Capital Honda','Spartan Toyota','N/A']\n",
    "carData2                   # display table"
   ]
  },
  {
   "cell_type": "markdown",
   "metadata": {},
   "source": [
    "利用一系列元组（tuple）创建DataFrame"
   ]
  },
  {
   "cell_type": "code",
   "execution_count": 27,
   "metadata": {},
   "outputs": [
    {
     "data": {
      "text/html": [
       "<div>\n",
       "<style scoped>\n",
       "    .dataframe tbody tr th:only-of-type {\n",
       "        vertical-align: middle;\n",
       "    }\n",
       "\n",
       "    .dataframe tbody tr th {\n",
       "        vertical-align: top;\n",
       "    }\n",
       "\n",
       "    .dataframe thead th {\n",
       "        text-align: right;\n",
       "    }\n",
       "</style>\n",
       "<table border=\"1\" class=\"dataframe\">\n",
       "  <thead>\n",
       "    <tr style=\"text-align: right;\">\n",
       "      <th></th>\n",
       "      <th>year</th>\n",
       "      <th>temp</th>\n",
       "      <th>precip</th>\n",
       "    </tr>\n",
       "  </thead>\n",
       "  <tbody>\n",
       "    <tr>\n",
       "      <th>0</th>\n",
       "      <td>2011</td>\n",
       "      <td>45.1</td>\n",
       "      <td>32.4</td>\n",
       "    </tr>\n",
       "    <tr>\n",
       "      <th>1</th>\n",
       "      <td>2012</td>\n",
       "      <td>42.4</td>\n",
       "      <td>34.5</td>\n",
       "    </tr>\n",
       "    <tr>\n",
       "      <th>2</th>\n",
       "      <td>2013</td>\n",
       "      <td>47.2</td>\n",
       "      <td>39.2</td>\n",
       "    </tr>\n",
       "    <tr>\n",
       "      <th>3</th>\n",
       "      <td>2014</td>\n",
       "      <td>44.2</td>\n",
       "      <td>31.4</td>\n",
       "    </tr>\n",
       "    <tr>\n",
       "      <th>4</th>\n",
       "      <td>2015</td>\n",
       "      <td>39.9</td>\n",
       "      <td>29.8</td>\n",
       "    </tr>\n",
       "    <tr>\n",
       "      <th>5</th>\n",
       "      <td>2016</td>\n",
       "      <td>41.5</td>\n",
       "      <td>36.7</td>\n",
       "    </tr>\n",
       "  </tbody>\n",
       "</table>\n",
       "</div>"
      ],
      "text/plain": [
       "   year  temp  precip\n",
       "0  2011  45.1    32.4\n",
       "1  2012  42.4    34.5\n",
       "2  2013  47.2    39.2\n",
       "3  2014  44.2    31.4\n",
       "4  2015  39.9    29.8\n",
       "5  2016  41.5    36.7"
      ]
     },
     "execution_count": 27,
     "metadata": {},
     "output_type": "execute_result"
    }
   ],
   "source": [
    "tuplelist = [(2011,45.1,32.4),(2012,42.4,34.5),(2013,47.2,39.2),\n",
    "              (2014,44.2,31.4),(2015,39.9,29.8),(2016,41.5,36.7)]\n",
    "columnNames = ['year','temp','precip']\n",
    "weatherData = DataFrame(tuplelist, columns=columnNames)\n",
    "weatherData"
   ]
  },
  {
   "cell_type": "markdown",
   "metadata": {},
   "source": [
    "利用 numpy ndarray 创建 DataFrame"
   ]
  },
  {
   "cell_type": "code",
   "execution_count": 28,
   "metadata": {},
   "outputs": [
    {
     "data": {
      "text/html": [
       "<div>\n",
       "<style scoped>\n",
       "    .dataframe tbody tr th:only-of-type {\n",
       "        vertical-align: middle;\n",
       "    }\n",
       "\n",
       "    .dataframe tbody tr th {\n",
       "        vertical-align: top;\n",
       "    }\n",
       "\n",
       "    .dataframe thead th {\n",
       "        text-align: right;\n",
       "    }\n",
       "</style>\n",
       "<table border=\"1\" class=\"dataframe\">\n",
       "  <thead>\n",
       "    <tr style=\"text-align: right;\">\n",
       "      <th></th>\n",
       "      <th>x1</th>\n",
       "      <th>x2</th>\n",
       "      <th>x3</th>\n",
       "    </tr>\n",
       "  </thead>\n",
       "  <tbody>\n",
       "    <tr>\n",
       "      <th>0</th>\n",
       "      <td>-1.823582</td>\n",
       "      <td>-0.077862</td>\n",
       "      <td>-0.859415</td>\n",
       "    </tr>\n",
       "    <tr>\n",
       "      <th>1</th>\n",
       "      <td>-0.494165</td>\n",
       "      <td>-0.609242</td>\n",
       "      <td>0.778708</td>\n",
       "    </tr>\n",
       "    <tr>\n",
       "      <th>2</th>\n",
       "      <td>-0.481002</td>\n",
       "      <td>1.207580</td>\n",
       "      <td>-0.077092</td>\n",
       "    </tr>\n",
       "    <tr>\n",
       "      <th>3</th>\n",
       "      <td>0.932931</td>\n",
       "      <td>-0.083403</td>\n",
       "      <td>-0.224677</td>\n",
       "    </tr>\n",
       "    <tr>\n",
       "      <th>4</th>\n",
       "      <td>1.128324</td>\n",
       "      <td>-2.021273</td>\n",
       "      <td>-1.005170</td>\n",
       "    </tr>\n",
       "  </tbody>\n",
       "</table>\n",
       "</div>"
      ],
      "text/plain": [
       "         x1        x2        x3\n",
       "0 -1.823582 -0.077862 -0.859415\n",
       "1 -0.494165 -0.609242  0.778708\n",
       "2 -0.481002  1.207580 -0.077092\n",
       "3  0.932931 -0.083403 -0.224677\n",
       "4  1.128324 -2.021273 -1.005170"
      ]
     },
     "execution_count": 28,
     "metadata": {},
     "output_type": "execute_result"
    }
   ],
   "source": [
    "import numpy as np\n",
    "\n",
    "npdata = np.random.randn(5,3)  # create a 5 by 3 random matrix\n",
    "columnNames = ['x1','x2','x3']\n",
    "data = DataFrame(npdata, columns=columnNames)\n",
    "data"
   ]
  },
  {
   "cell_type": "markdown",
   "metadata": {},
   "source": [
    "DataFrame中的元素可以以多种方式进行访问"
   ]
  },
  {
   "cell_type": "code",
   "execution_count": 29,
   "metadata": {},
   "outputs": [
    {
     "name": "stdout",
     "output_type": "stream",
     "text": [
      "0   -0.077862\n",
      "1   -0.609242\n",
      "2    1.207580\n",
      "3   -0.083403\n",
      "4   -2.021273\n",
      "Name: x2, dtype: float64\n",
      "<class 'pandas.core.series.Series'>\n"
     ]
    }
   ],
   "source": [
    "# accessing an entire column will return a Series object\n",
    "\n",
    "print(data['x2'])\n",
    "print(type(data['x2']))"
   ]
  },
  {
   "cell_type": "code",
   "execution_count": 30,
   "metadata": {},
   "outputs": [
    {
     "name": "stdout",
     "output_type": "stream",
     "text": [
      "Row 3 of data table:\n",
      "x1   -0.481002\n",
      "x2    1.207580\n",
      "x3   -0.077092\n",
      "Name: 2, dtype: float64\n",
      "<class 'pandas.core.series.Series'>\n",
      "\n",
      "Row 3 of car data table:\n",
      "make                  Toyota\n",
      "model                  Camry\n",
      "MSRP                   23495\n",
      "year                    2018\n",
      "dealership    Spartan Toyota\n",
      "Name: 3, dtype: object\n",
      "<class 'pandas.core.series.Series'>\n"
     ]
    }
   ],
   "source": [
    "# accessing an entire row will return a Series object\n",
    "\n",
    "print('Row 3 of data table:')\n",
    "print(data.iloc[2])       # returns the 3rd row of DataFrame\n",
    "print(type(data.iloc[2]))\n",
    "print('\\nRow 3 of car data table:')\n",
    "print(carData2.iloc[2])   # row contains objects of different types\n",
    "print(type(carData2.iloc[2]))"
   ]
  },
  {
   "cell_type": "code",
   "execution_count": 31,
   "metadata": {},
   "outputs": [
    {
     "name": "stdout",
     "output_type": "stream",
     "text": [
      "23570\n",
      "Taurus\n",
      "carData2.iloc[1:3,1:3]=\n",
      "    model   MSRP\n",
      "2  Accord  23570\n",
      "3   Camry  23495\n"
     ]
    }
   ],
   "source": [
    "# accessing a specific element of the DataFrame\n",
    "\n",
    "print(carData2.iloc[1,2])      # retrieving second row, third column\n",
    "print(carData2.loc[1,'model']) # retrieving second row, column named 'model'\n",
    "\n",
    "# accessing a slice of the DataFrame\n",
    "\n",
    "print('carData2.iloc[1:3,1:3]=')\n",
    "print(carData2.iloc[1:3,1:3])"
   ]
  },
  {
   "cell_type": "code",
   "execution_count": 32,
   "metadata": {},
   "outputs": [
    {
     "name": "stdout",
     "output_type": "stream",
     "text": [
      "carData2.shape = (4, 5)\n",
      "carData2.size = 20\n"
     ]
    }
   ],
   "source": [
    "print('carData2.shape =', carData2.shape)\n",
    "print('carData2.size =', carData2.size)"
   ]
  },
  {
   "cell_type": "code",
   "execution_count": 33,
   "metadata": {},
   "outputs": [
    {
     "name": "stdout",
     "output_type": "stream",
     "text": [
      "carData2[carData2.MSRP > 25000]\n",
      "    make    model   MSRP  year     dealership\n",
      "1   Ford   Taurus  27595  2018  Courtesy Ford\n",
      "4  Tesla  Model S  68000  2018            N/A\n"
     ]
    }
   ],
   "source": [
    "# selection and filtering\n",
    "\n",
    "print('carData2[carData2.MSRP > 25000]')  \n",
    "print(carData2[carData2.MSRP > 25000])"
   ]
  },
  {
   "cell_type": "markdown",
   "metadata": {},
   "source": [
    "### 2.2.3 算术操作 Arithmetic Operations"
   ]
  },
  {
   "cell_type": "code",
   "execution_count": 34,
   "metadata": {},
   "outputs": [
    {
     "name": "stdout",
     "output_type": "stream",
     "text": [
      "         x1        x2        x3\n",
      "0 -1.823582 -0.077862 -0.859415\n",
      "1 -0.494165 -0.609242  0.778708\n",
      "2 -0.481002  1.207580 -0.077092\n",
      "3  0.932931 -0.083403 -0.224677\n",
      "4  1.128324 -2.021273 -1.005170\n",
      "\n",
      "Data transpose operation:\n",
      "           0         1         2         3         4\n",
      "x1 -1.823582 -0.494165 -0.481002  0.932931  1.128324\n",
      "x2 -0.077862 -0.609242  1.207580 -0.083403 -2.021273\n",
      "x3 -0.859415  0.778708 -0.077092 -0.224677 -1.005170\n",
      "\n",
      "Addition:\n",
      "         x1        x2        x3\n",
      "0  2.176418  3.922138  3.140585\n",
      "1  3.505835  3.390758  4.778708\n",
      "2  3.518998  5.207580  3.922908\n",
      "3  4.932931  3.916597  3.775323\n",
      "4  5.128324  1.978727  2.994830\n",
      "\n",
      "Multiplication:\n",
      "          x1         x2         x3\n",
      "0 -18.235820  -0.778623  -8.594146\n",
      "1  -4.941645  -6.092416   7.787083\n",
      "2  -4.810025  12.075801  -0.770924\n",
      "3   9.329311  -0.834029  -2.246773\n",
      "4  11.283237 -20.212726 -10.051700\n"
     ]
    }
   ],
   "source": [
    "print(data)\n",
    "\n",
    "print('\\nData transpose operation:')\n",
    "print(data.T)    # transpose operation\n",
    "\n",
    "print('\\nAddition:')\n",
    "print(data + 4)    # addition operation\n",
    "\n",
    "print('\\nMultiplication:')\n",
    "print(data * 10)   # multiplication operation"
   ]
  },
  {
   "cell_type": "code",
   "execution_count": 35,
   "metadata": {},
   "outputs": [
    {
     "name": "stdout",
     "output_type": "stream",
     "text": [
      "data =\n",
      "         x1        x2        x3\n",
      "0 -1.823582 -0.077862 -0.859415\n",
      "1 -0.494165 -0.609242  0.778708\n",
      "2 -0.481002  1.207580 -0.077092\n",
      "3  0.932931 -0.083403 -0.224677\n",
      "4  1.128324 -2.021273 -1.005170\n",
      "\n",
      "data2 =\n",
      "         x1        x2        x3\n",
      "0 -0.064105 -0.228087 -1.104541\n",
      "1 -0.294328  0.674128  1.088824\n",
      "2 -0.289893  0.668461 -0.946866\n",
      "3  0.975595  0.656559 -0.205895\n",
      "4 -2.142152  0.454663 -1.067833\n",
      "\n",
      "data + data2 = \n",
      "         x1        x2        x3\n",
      "0 -1.887687 -0.305949 -1.963956\n",
      "1 -0.788492  0.064887  1.867532\n",
      "2 -0.770895  1.876042 -1.023958\n",
      "3  1.908526  0.573156 -0.430572\n",
      "4 -1.013828 -1.566609 -2.073003\n",
      "\n",
      "data * data2 = \n",
      "         x1        x2        x3\n",
      "0  0.116901  0.017759  0.949259\n",
      "1  0.145446 -0.410707  0.847876\n",
      "2  0.139439  0.807221  0.072996\n",
      "3  0.910163 -0.054759  0.046260\n",
      "4 -2.417041 -0.918998  1.073354\n"
     ]
    }
   ],
   "source": [
    "print('data =')\n",
    "print(data)\n",
    "\n",
    "columnNames = ['x1','x2','x3']\n",
    "data2 = DataFrame(np.random.randn(5,3), columns=columnNames)\n",
    "print('\\ndata2 =')\n",
    "print(data2)\n",
    "\n",
    "print('\\ndata + data2 = ')\n",
    "print(data.add(data2))\n",
    "\n",
    "print('\\ndata * data2 = ')\n",
    "print(data.mul(data2))"
   ]
  },
  {
   "cell_type": "code",
   "execution_count": 36,
   "metadata": {},
   "outputs": [
    {
     "name": "stdout",
     "output_type": "stream",
     "text": [
      "         x1        x2        x3\n",
      "0  1.823582  0.077862  0.859415\n",
      "1  0.494165  0.609242  0.778708\n",
      "2  0.481002  1.207580  0.077092\n",
      "3  0.932931  0.083403  0.224677\n",
      "4  1.128324  2.021273  1.005170\n",
      "\n",
      "Maximum value per column:\n",
      "x1    1.128324\n",
      "x2    1.207580\n",
      "x3    0.778708\n",
      "dtype: float64\n",
      "\n",
      "Minimum value per row:\n",
      "0   -1.823582\n",
      "1   -0.609242\n",
      "2   -0.481002\n",
      "3   -0.224677\n",
      "4   -2.021273\n",
      "dtype: float64\n",
      "\n",
      "Sum of values per column:\n",
      "x1   -0.737494\n",
      "x2   -1.584199\n",
      "x3   -1.387646\n",
      "dtype: float64\n",
      "\n",
      "Average value per row:\n",
      "0   -0.920286\n",
      "1   -0.108233\n",
      "2    0.216495\n",
      "3    0.208284\n",
      "4   -0.632706\n",
      "dtype: float64\n",
      "\n",
      "Calculate max - min per column\n",
      "x1    2.951906\n",
      "x2    3.228853\n",
      "x3    1.783878\n",
      "dtype: float64\n",
      "\n",
      "Calculate max - min per row\n",
      "0    1.745720\n",
      "1    1.387950\n",
      "2    1.688583\n",
      "3    1.157608\n",
      "4    3.149596\n",
      "dtype: float64\n"
     ]
    }
   ],
   "source": [
    "print(data.abs())    # get the absolute value for each element\n",
    "\n",
    "print('\\nMaximum value per column:')\n",
    "print(data.max())    # get maximum value for each column\n",
    "\n",
    "print('\\nMinimum value per row:')\n",
    "print(data.min(axis=1))    # get minimum value for each row\n",
    "\n",
    "print('\\nSum of values per column:')\n",
    "print(data.sum())    # get sum of values for each column\n",
    "\n",
    "print('\\nAverage value per row:')\n",
    "print(data.mean(axis=1))    # get average value for each row\n",
    "\n",
    "print('\\nCalculate max - min per column')\n",
    "f = lambda x: x.max() - x.min()\n",
    "print(data.apply(f))\n",
    "\n",
    "print('\\nCalculate max - min per row')\n",
    "f = lambda x: x.max() - x.min()\n",
    "print(data.apply(f, axis=1))"
   ]
  },
  {
   "cell_type": "markdown",
   "metadata": {},
   "source": [
    "### 2.2.4 Series 与 DataFrame的绘制\n",
    "\n",
    "可以使用内置函数来绘制存储在Series或DataFrame中的数据。"
   ]
  },
  {
   "cell_type": "code",
   "execution_count": 37,
   "metadata": {},
   "outputs": [
    {
     "name": "stderr",
     "output_type": "stream",
     "text": [
      "Matplotlib is building the font cache; this may take a moment.\n"
     ]
    },
    {
     "data": {
      "text/plain": [
       "<AxesSubplot:title={'center':'Line plot'}>"
      ]
     },
     "execution_count": 37,
     "metadata": {},
     "output_type": "execute_result"
    },
    {
     "data": {
      "image/png": "[encoded data removed]",
      "text/plain": [
       "<Figure size 432x288 with 1 Axes>"
      ]
     },
     "metadata": {
      "needs_background": "light"
     },
     "output_type": "display_data"
    }
   ],
   "source": [
    "%matplotlib inline\n",
    "\n",
    "s3 = Series([1.2,2.5,-2.2,3.1,-0.8,-3.2,1.4], \n",
    "            index = ['Jan 1','Jan 2','Jan 3','Jan 4','Jan 5','Jan 6','Jan 7'])\n",
    "s3.plot(kind='line', title='Line plot')"
   ]
  },
  {
   "cell_type": "code",
   "execution_count": 38,
   "metadata": {},
   "outputs": [
    {
     "data": {
      "text/plain": [
       "<AxesSubplot:title={'center':'Bar plot'}>"
      ]
     },
     "execution_count": 38,
     "metadata": {},
     "output_type": "execute_result"
    },
    {
     "data": {
      "image/png": "[encoded data removed]",
      "text/plain": [
       "<Figure size 432x288 with 1 Axes>"
      ]
     },
     "metadata": {
      "needs_background": "light"
     },
     "output_type": "display_data"
    }
   ],
   "source": [
    "s3.plot(kind='bar', title='Bar plot')"
   ]
  },
  {
   "cell_type": "code",
   "execution_count": 39,
   "metadata": {
    "scrolled": true
   },
   "outputs": [
    {
     "data": {
      "text/plain": [
       "<AxesSubplot:title={'center':'Histogram'}, ylabel='Frequency'>"
      ]
     },
     "execution_count": 39,
     "metadata": {},
     "output_type": "execute_result"
    },
    {
     "data": {
      "image/png": "[encoded data removed]",
      "text/plain": [
       "<Figure size 432x288 with 1 Axes>"
      ]
     },
     "metadata": {
      "needs_background": "light"
     },
     "output_type": "display_data"
    }
   ],
   "source": [
    "# [1.2,2.5,-2.2,3.1,-0.8,-3.2,1.4]\n",
    "s3.plot(kind='hist', title = 'Histogram')"
   ]
  },
  {
   "cell_type": "code",
   "execution_count": 40,
   "metadata": {},
   "outputs": [
    {
     "data": {
      "text/plain": [
       "<AxesSubplot:title={'center':'Histogram'}, ylabel='Frequency'>"
      ]
     },
     "execution_count": 40,
     "metadata": {},
     "output_type": "execute_result"
    },
    {
     "data": {
      "image/png": "[encoded data removed]",
      "text/plain": [
       "<Figure size 432x288 with 1 Axes>"
      ]
     },
     "metadata": {
      "needs_background": "light"
     },
     "output_type": "display_data"
    }
   ],
   "source": [
    "s4 = Series([1,2,2,3,4,4,4], \n",
    "            index = ['Jan 1','Jan 2','Jan 3','Jan 4','Jan 5','Jan 6','Jan 7'])\n",
    "s4.plot(kind='hist', title = 'Histogram')"
   ]
  },
  {
   "cell_type": "code",
   "execution_count": 41,
   "metadata": {},
   "outputs": [
    {
     "data": {
      "text/plain": [
       "<AxesSubplot:title={'center':'Box plot'}>"
      ]
     },
     "execution_count": 41,
     "metadata": {},
     "output_type": "execute_result"
    },
    {
     "data": {
      "image/png": "[encoded data removed]",
      "text/plain": [
       "<Figure size 432x288 with 1 Axes>"
      ]
     },
     "metadata": {
      "needs_background": "light"
     },
     "output_type": "display_data"
    }
   ],
   "source": [
    "tuplelist = [(2011,45.1,32.4),(2012,42.4,34.5),(2013,47.2,39.2),\n",
    "              (2014,44.2,31.4),(2015,39.9,29.8),(2016,41.5,36.7)]\n",
    "columnNames = ['year','temp','precip'] # precip降雨\n",
    "weatherData = DataFrame(tuplelist, columns=columnNames)\n",
    "weatherData[['temp','precip']].plot(kind='box', title='Box plot')"
   ]
  },
  {
   "cell_type": "code",
   "execution_count": null,
   "metadata": {},
   "outputs": [],
   "source": []
  }
 ],
 "metadata": {
  "kernelspec": {
   "display_name": "Python 3",
   "language": "python",
   "name": "python3"
  },
  "language_info": {
   "codemirror_mode": {
    "name": "ipython",
    "version": 3
   },
   "file_extension": ".py",
   "mimetype": "text/x-python",
   "name": "python",
   "nbconvert_exporter": "python",
   "pygments_lexer": "ipython3",
   "version": "3.6.12"
  }
 },
 "nbformat": 4,
 "nbformat_minor": 2
}

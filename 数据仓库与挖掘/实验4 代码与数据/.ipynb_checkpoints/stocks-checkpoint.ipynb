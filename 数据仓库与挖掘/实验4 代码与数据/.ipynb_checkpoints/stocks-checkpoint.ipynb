{
 "cells": [
  {
   "cell_type": "code",
   "execution_count": 16,
   "metadata": {},
   "outputs": [
    {
     "data": {
      "text/html": [
       "<div>\n",
       "<style scoped>\n",
       "    .dataframe tbody tr th:only-of-type {\n",
       "        vertical-align: middle;\n",
       "    }\n",
       "\n",
       "    .dataframe tbody tr th {\n",
       "        vertical-align: top;\n",
       "    }\n",
       "\n",
       "    .dataframe thead th {\n",
       "        text-align: right;\n",
       "    }\n",
       "</style>\n",
       "<table border=\"1\" class=\"dataframe\">\n",
       "  <thead>\n",
       "    <tr style=\"text-align: right;\">\n",
       "      <th></th>\n",
       "      <th>MSFT</th>\n",
       "      <th>BAC</th>\n",
       "    </tr>\n",
       "    <tr>\n",
       "      <th>Date</th>\n",
       "      <th></th>\n",
       "      <th></th>\n",
       "    </tr>\n",
       "  </thead>\n",
       "  <tbody>\n",
       "    <tr>\n",
       "      <th>1/3/2007</th>\n",
       "      <td>29.860001</td>\n",
       "      <td>53.330002</td>\n",
       "    </tr>\n",
       "    <tr>\n",
       "      <th>1/4/2007</th>\n",
       "      <td>29.809999</td>\n",
       "      <td>53.669998</td>\n",
       "    </tr>\n",
       "    <tr>\n",
       "      <th>1/5/2007</th>\n",
       "      <td>29.639999</td>\n",
       "      <td>53.240002</td>\n",
       "    </tr>\n",
       "    <tr>\n",
       "      <th>1/8/2007</th>\n",
       "      <td>29.930000</td>\n",
       "      <td>53.450001</td>\n",
       "    </tr>\n",
       "    <tr>\n",
       "      <th>1/9/2007</th>\n",
       "      <td>29.959999</td>\n",
       "      <td>53.500000</td>\n",
       "    </tr>\n",
       "  </tbody>\n",
       "</table>\n",
       "</div>"
      ],
      "text/plain": [
       "               MSFT        BAC\n",
       "Date                          \n",
       "1/3/2007  29.860001  53.330002\n",
       "1/4/2007  29.809999  53.669998\n",
       "1/5/2007  29.639999  53.240002\n",
       "1/8/2007  29.930000  53.450001\n",
       "1/9/2007  29.959999  53.500000"
      ]
     },
     "execution_count": 16,
     "metadata": {},
     "output_type": "execute_result"
    }
   ],
   "source": [
    "import pandas as pd\n",
    "\n",
    "stocks = pd.read_csv('stocks.csv', header='infer' ) \n",
    "stocks.index = stocks['Date']\n",
    "stocks = stocks.drop(['Date'],axis=1)\n",
    "stocks = stocks.drop(['F'],axis=1)\n",
    "stocks.head()"
   ]
  },
  {
   "cell_type": "code",
   "execution_count": 17,
   "metadata": {},
   "outputs": [
    {
     "data": {
      "text/html": [
       "<div>\n",
       "<style scoped>\n",
       "    .dataframe tbody tr th:only-of-type {\n",
       "        vertical-align: middle;\n",
       "    }\n",
       "\n",
       "    .dataframe tbody tr th {\n",
       "        vertical-align: top;\n",
       "    }\n",
       "\n",
       "    .dataframe thead th {\n",
       "        text-align: right;\n",
       "    }\n",
       "</style>\n",
       "<table border=\"1\" class=\"dataframe\">\n",
       "  <thead>\n",
       "    <tr style=\"text-align: right;\">\n",
       "      <th></th>\n",
       "      <th>MSFT</th>\n",
       "      <th>BAC</th>\n",
       "    </tr>\n",
       "    <tr>\n",
       "      <th>Date</th>\n",
       "      <th></th>\n",
       "      <th></th>\n",
       "    </tr>\n",
       "  </thead>\n",
       "  <tbody>\n",
       "    <tr>\n",
       "      <th>1/4/2007</th>\n",
       "      <td>-0.167455</td>\n",
       "      <td>0.637532</td>\n",
       "    </tr>\n",
       "    <tr>\n",
       "      <th>1/5/2007</th>\n",
       "      <td>-0.570278</td>\n",
       "      <td>-0.801185</td>\n",
       "    </tr>\n",
       "    <tr>\n",
       "      <th>1/8/2007</th>\n",
       "      <td>0.978411</td>\n",
       "      <td>0.394438</td>\n",
       "    </tr>\n",
       "    <tr>\n",
       "      <th>1/9/2007</th>\n",
       "      <td>0.100231</td>\n",
       "      <td>0.093543</td>\n",
       "    </tr>\n",
       "    <tr>\n",
       "      <th>1/10/2007</th>\n",
       "      <td>-1.001332</td>\n",
       "      <td>0.149536</td>\n",
       "    </tr>\n",
       "  </tbody>\n",
       "</table>\n",
       "</div>"
      ],
      "text/plain": [
       "               MSFT       BAC\n",
       "Date                         \n",
       "1/4/2007  -0.167455  0.637532\n",
       "1/5/2007  -0.570278 -0.801185\n",
       "1/8/2007   0.978411  0.394438\n",
       "1/9/2007   0.100231  0.093543\n",
       "1/10/2007 -1.001332  0.149536"
      ]
     },
     "execution_count": 17,
     "metadata": {},
     "output_type": "execute_result"
    }
   ],
   "source": [
    "import numpy as np\n",
    "\n",
    "N,d = stocks.shape\n",
    "delta = pd.DataFrame(100*np.divide(stocks.iloc[1:,:].values-stocks.iloc[:N-1,:].values, stocks.iloc[:N-1,:].values),\n",
    "                    columns=stocks.columns, index=stocks.iloc[1:].index)\n",
    "delta.head()"
   ]
  },
  {
   "cell_type": "code",
   "execution_count": 33,
   "metadata": {},
   "outputs": [
    {
     "data": {
      "image/png": "[encoded data removed]",
      "text/plain": [
       "<Figure size 432x288 with 1 Axes>"
      ]
     },
     "metadata": {
      "needs_background": "light"
     },
     "output_type": "display_data"
    }
   ],
   "source": [
    "from mpl_toolkits.mplot3d import Axes3D\n",
    "import matplotlib.pyplot as plt\n",
    "%matplotlib inline\n",
    "\n",
    "#fig = plt.figure(figsize=(8,5)).gca(projection='2d')\n",
    "plt.scatter(delta.MSFT,delta.BAC)\n",
    "plt.xlabel('Microsoft')\n",
    "#fig.set_ylabel('Ford')\n",
    "plt.ylabel('Bank of America')\n",
    "plt.show()"
   ]
  },
  {
   "cell_type": "code",
   "execution_count": 34,
   "metadata": {},
   "outputs": [
    {
     "name": "stdout",
     "output_type": "stream",
     "text": [
      "MSFT   -0.135008\n",
      "BAC    -0.100052\n",
      "dtype: float64\n",
      "          MSFT        BAC\n",
      "MSFT  3.191674   2.788870\n",
      "BAC   2.788870  13.770761\n"
     ]
    }
   ],
   "source": [
    "meanValue = delta.mean()\n",
    "covValue = delta.cov()\n",
    "print(meanValue)\n",
    "print(covValue)"
   ]
  },
  {
   "cell_type": "code",
   "execution_count": 39,
   "metadata": {},
   "outputs": [
    {
     "data": {
      "image/png": "[encoded data removed]",
      "text/plain": [
       "<Figure size 720x432 with 2 Axes>"
      ]
     },
     "metadata": {
      "needs_background": "light"
     },
     "output_type": "display_data"
    }
   ],
   "source": [
    "from numpy.linalg import inv\n",
    "\n",
    "X = delta.values\n",
    "S = covValue.values\n",
    "for i in range(2):\n",
    "    X[:,i] = X[:,i] - meanValue[i]\n",
    "    \n",
    "def mahalanobis(row):\n",
    "    return np.matmul(row,S).dot(row)   \n",
    "    \n",
    "anomaly_score = np.apply_along_axis( mahalanobis, axis=1, arr=X)\n",
    "\n",
    "fig = plt.figure(figsize=(10,6))\n",
    "#ax = fig.add_subplot(111, projection='3d')\n",
    "p = ax.scatter(delta.MSFT,delta.BAC,c=anomaly_score,cmap='jet')\n",
    "ax.set_xlabel('Microsoft')\n",
    "ax.set_ylabel('Bank of America')\n",
    "plt.colorbar(p)\n",
    "plt.show()"
   ]
  }
 ],
 "metadata": {
  "kernelspec": {
   "display_name": "Python 3",
   "language": "python",
   "name": "python3"
  },
  "language_info": {
   "codemirror_mode": {
    "name": "ipython",
    "version": 3
   },
   "file_extension": ".py",
   "mimetype": "text/x-python",
   "name": "python",
   "nbconvert_exporter": "python",
   "pygments_lexer": "ipython3",
   "version": "3.6.12"
  }
 },
 "nbformat": 4,
 "nbformat_minor": 4
}
